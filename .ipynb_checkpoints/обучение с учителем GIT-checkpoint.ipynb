{
 "cells": [
  {
   "cell_type": "markdown",
   "metadata": {
    "toc": true
   },
   "source": [
    "<h1>Содержание<span class=\"tocSkip\"></span></h1>\n",
    "<div class=\"toc\"><ul class=\"toc-item\"><li><span><a href=\"#Подготовка-данных\" data-toc-modified-id=\"Подготовка-данных-1\"><span class=\"toc-item-num\">1&nbsp;&nbsp;</span>Подготовка данных</a></span></li><li><span><a href=\"#Исследование-задачи\" data-toc-modified-id=\"Исследование-задачи-2\"><span class=\"toc-item-num\">2&nbsp;&nbsp;</span>Исследование задачи</a></span></li><li><span><a href=\"#Борьба-с-дисбалансом\" data-toc-modified-id=\"Борьба-с-дисбалансом-3\"><span class=\"toc-item-num\">3&nbsp;&nbsp;</span>Борьба с дисбалансом</a></span></li><li><span><a href=\"#Тестирование-модели\" data-toc-modified-id=\"Тестирование-модели-4\"><span class=\"toc-item-num\">4&nbsp;&nbsp;</span>Тестирование модели</a></span></li><li><span><a href=\"#Чек-лист-готовности-проекта\" data-toc-modified-id=\"Чек-лист-готовности-проекта-5\"><span class=\"toc-item-num\">5&nbsp;&nbsp;</span>Чек-лист готовности проекта</a></span></li></ul></div>"
   ]
  },
  {
   "cell_type": "markdown",
   "metadata": {},
   "source": [
    "## Ссылка на репозиторий: https://github.com/VlmSap/repository_project_fl"
   ]
  },
  {
   "cell_type": "markdown",
   "metadata": {},
   "source": [
    "# Отток клиентов"
   ]
  },
  {
   "cell_type": "markdown",
   "metadata": {},
   "source": [
    "Из «Бета-Банка» стали уходить клиенты. Каждый месяц. Немного, но заметно. Банковские маркетологи посчитали: сохранять текущих клиентов дешевле, чем привлекать новых.\n",
    "\n",
    "Нужно спрогнозировать, уйдёт клиент из банка в ближайшее время или нет. Вам предоставлены исторические данные о поведении клиентов и расторжении договоров с банком. \n",
    "\n",
    "Постройте модель с предельно большим значением *F1*-меры. Чтобы сдать проект успешно, нужно довести метрику до 0.59. Проверьте *F1*-меру на тестовой выборке самостоятельно.\n",
    "\n",
    "Дополнительно измеряйте *AUC-ROC*, сравнивайте её значение с *F1*-мерой.\n",
    "\n",
    "Источник данных: [https://www.kaggle.com/barelydedicated/bank-customer-churn-modeling](https://www.kaggle.com/barelydedicated/bank-customer-churn-modeling)"
   ]
  },
  {
   "cell_type": "markdown",
   "metadata": {},
   "source": [
    "## Подготовка данных"
   ]
  },
  {
   "cell_type": "code",
   "execution_count": 2,
   "metadata": {},
   "outputs": [
    {
     "name": "stdout",
     "output_type": "stream",
     "text": [
      "Collecting scikit-learn==1.1.3\n",
      "  Downloading scikit_learn-1.1.3-cp39-cp39-manylinux_2_17_x86_64.manylinux2014_x86_64.whl (30.8 MB)\n",
      "\u001b[K     |████████████████████████████████| 30.8 MB 49 kB/s  eta 0:00:01\n",
      "\u001b[?25hRequirement already satisfied: threadpoolctl>=2.0.0 in /opt/conda/lib/python3.9/site-packages (from scikit-learn==1.1.3) (3.1.0)\n",
      "Requirement already satisfied: numpy>=1.17.3 in /opt/conda/lib/python3.9/site-packages (from scikit-learn==1.1.3) (1.21.1)\n",
      "Requirement already satisfied: joblib>=1.0.0 in /opt/conda/lib/python3.9/site-packages (from scikit-learn==1.1.3) (1.1.0)\n",
      "Requirement already satisfied: scipy>=1.3.2 in /opt/conda/lib/python3.9/site-packages (from scikit-learn==1.1.3) (1.9.1)\n",
      "Installing collected packages: scikit-learn\n",
      "  Attempting uninstall: scikit-learn\n",
      "    Found existing installation: scikit-learn 0.24.1\n",
      "    Uninstalling scikit-learn-0.24.1:\n",
      "      Successfully uninstalled scikit-learn-0.24.1\n",
      "Successfully installed scikit-learn-1.1.3\n"
     ]
    }
   ],
   "source": [
    "!pip install scikit-learn==1.1.3"
   ]
  },
  {
   "cell_type": "code",
   "execution_count": 39,
   "metadata": {},
   "outputs": [],
   "source": [
    "import pandas as pd\n",
    "from sklearn.model_selection import train_test_split\n",
    "from sklearn.tree import DecisionTreeClassifier\n",
    "from sklearn.metrics import f1_score, accuracy_score, roc_auc_score, roc_curve, recall_score\n",
    "from sklearn.ensemble import RandomForestClassifier\n",
    "from sklearn.linear_model import LogisticRegression\n",
    "from sklearn.utils import shuffle\n",
    "from sklearn.preprocessing import OneHotEncoder, StandardScaler\n",
    "import matplotlib.pyplot as plt"
   ]
  },
  {
   "cell_type": "code",
   "execution_count": 4,
   "metadata": {},
   "outputs": [
    {
     "name": "stdout",
     "output_type": "stream",
     "text": [
      "<class 'pandas.core.frame.DataFrame'>\n",
      "RangeIndex: 10000 entries, 0 to 9999\n",
      "Data columns (total 14 columns):\n",
      " #   Column           Non-Null Count  Dtype  \n",
      "---  ------           --------------  -----  \n",
      " 0   RowNumber        10000 non-null  int64  \n",
      " 1   CustomerId       10000 non-null  int64  \n",
      " 2   Surname          10000 non-null  object \n",
      " 3   CreditScore      10000 non-null  int64  \n",
      " 4   Geography        10000 non-null  object \n",
      " 5   Gender           10000 non-null  object \n",
      " 6   Age              10000 non-null  int64  \n",
      " 7   Tenure           9091 non-null   float64\n",
      " 8   Balance          10000 non-null  float64\n",
      " 9   NumOfProducts    10000 non-null  int64  \n",
      " 10  HasCrCard        10000 non-null  int64  \n",
      " 11  IsActiveMember   10000 non-null  int64  \n",
      " 12  EstimatedSalary  10000 non-null  float64\n",
      " 13  Exited           10000 non-null  int64  \n",
      "dtypes: float64(3), int64(8), object(3)\n",
      "memory usage: 1.1+ MB\n"
     ]
    },
    {
     "data": {
      "text/plain": [
       "None"
      ]
     },
     "metadata": {},
     "output_type": "display_data"
    },
    {
     "data": {
      "text/html": [
       "<div>\n",
       "<style scoped>\n",
       "    .dataframe tbody tr th:only-of-type {\n",
       "        vertical-align: middle;\n",
       "    }\n",
       "\n",
       "    .dataframe tbody tr th {\n",
       "        vertical-align: top;\n",
       "    }\n",
       "\n",
       "    .dataframe thead th {\n",
       "        text-align: right;\n",
       "    }\n",
       "</style>\n",
       "<table border=\"1\" class=\"dataframe\">\n",
       "  <thead>\n",
       "    <tr style=\"text-align: right;\">\n",
       "      <th></th>\n",
       "      <th>RowNumber</th>\n",
       "      <th>CustomerId</th>\n",
       "      <th>Surname</th>\n",
       "      <th>CreditScore</th>\n",
       "      <th>Geography</th>\n",
       "      <th>Gender</th>\n",
       "      <th>Age</th>\n",
       "      <th>Tenure</th>\n",
       "      <th>Balance</th>\n",
       "      <th>NumOfProducts</th>\n",
       "      <th>HasCrCard</th>\n",
       "      <th>IsActiveMember</th>\n",
       "      <th>EstimatedSalary</th>\n",
       "      <th>Exited</th>\n",
       "    </tr>\n",
       "  </thead>\n",
       "  <tbody>\n",
       "    <tr>\n",
       "      <th>0</th>\n",
       "      <td>1</td>\n",
       "      <td>15634602</td>\n",
       "      <td>Hargrave</td>\n",
       "      <td>619</td>\n",
       "      <td>France</td>\n",
       "      <td>Female</td>\n",
       "      <td>42</td>\n",
       "      <td>2.0</td>\n",
       "      <td>0.00</td>\n",
       "      <td>1</td>\n",
       "      <td>1</td>\n",
       "      <td>1</td>\n",
       "      <td>101348.88</td>\n",
       "      <td>1</td>\n",
       "    </tr>\n",
       "    <tr>\n",
       "      <th>1</th>\n",
       "      <td>2</td>\n",
       "      <td>15647311</td>\n",
       "      <td>Hill</td>\n",
       "      <td>608</td>\n",
       "      <td>Spain</td>\n",
       "      <td>Female</td>\n",
       "      <td>41</td>\n",
       "      <td>1.0</td>\n",
       "      <td>83807.86</td>\n",
       "      <td>1</td>\n",
       "      <td>0</td>\n",
       "      <td>1</td>\n",
       "      <td>112542.58</td>\n",
       "      <td>0</td>\n",
       "    </tr>\n",
       "    <tr>\n",
       "      <th>2</th>\n",
       "      <td>3</td>\n",
       "      <td>15619304</td>\n",
       "      <td>Onio</td>\n",
       "      <td>502</td>\n",
       "      <td>France</td>\n",
       "      <td>Female</td>\n",
       "      <td>42</td>\n",
       "      <td>8.0</td>\n",
       "      <td>159660.80</td>\n",
       "      <td>3</td>\n",
       "      <td>1</td>\n",
       "      <td>0</td>\n",
       "      <td>113931.57</td>\n",
       "      <td>1</td>\n",
       "    </tr>\n",
       "    <tr>\n",
       "      <th>3</th>\n",
       "      <td>4</td>\n",
       "      <td>15701354</td>\n",
       "      <td>Boni</td>\n",
       "      <td>699</td>\n",
       "      <td>France</td>\n",
       "      <td>Female</td>\n",
       "      <td>39</td>\n",
       "      <td>1.0</td>\n",
       "      <td>0.00</td>\n",
       "      <td>2</td>\n",
       "      <td>0</td>\n",
       "      <td>0</td>\n",
       "      <td>93826.63</td>\n",
       "      <td>0</td>\n",
       "    </tr>\n",
       "    <tr>\n",
       "      <th>4</th>\n",
       "      <td>5</td>\n",
       "      <td>15737888</td>\n",
       "      <td>Mitchell</td>\n",
       "      <td>850</td>\n",
       "      <td>Spain</td>\n",
       "      <td>Female</td>\n",
       "      <td>43</td>\n",
       "      <td>2.0</td>\n",
       "      <td>125510.82</td>\n",
       "      <td>1</td>\n",
       "      <td>1</td>\n",
       "      <td>1</td>\n",
       "      <td>79084.10</td>\n",
       "      <td>0</td>\n",
       "    </tr>\n",
       "  </tbody>\n",
       "</table>\n",
       "</div>"
      ],
      "text/plain": [
       "   RowNumber  CustomerId   Surname  CreditScore Geography  Gender  Age  \\\n",
       "0          1    15634602  Hargrave          619    France  Female   42   \n",
       "1          2    15647311      Hill          608     Spain  Female   41   \n",
       "2          3    15619304      Onio          502    France  Female   42   \n",
       "3          4    15701354      Boni          699    France  Female   39   \n",
       "4          5    15737888  Mitchell          850     Spain  Female   43   \n",
       "\n",
       "   Tenure    Balance  NumOfProducts  HasCrCard  IsActiveMember  \\\n",
       "0     2.0       0.00              1          1               1   \n",
       "1     1.0   83807.86              1          0               1   \n",
       "2     8.0  159660.80              3          1               0   \n",
       "3     1.0       0.00              2          0               0   \n",
       "4     2.0  125510.82              1          1               1   \n",
       "\n",
       "   EstimatedSalary  Exited  \n",
       "0        101348.88       1  \n",
       "1        112542.58       0  \n",
       "2        113931.57       1  \n",
       "3         93826.63       0  \n",
       "4         79084.10       0  "
      ]
     },
     "metadata": {},
     "output_type": "display_data"
    }
   ],
   "source": [
    "data = pd.read_csv('/datasets/Churn.csv')\n",
    "\n",
    "display(data.info())\n",
    "display(data.head())"
   ]
  },
  {
   "cell_type": "code",
   "execution_count": 5,
   "metadata": {},
   "outputs": [
    {
     "data": {
      "text/html": [
       "<div>\n",
       "<style scoped>\n",
       "    .dataframe tbody tr th:only-of-type {\n",
       "        vertical-align: middle;\n",
       "    }\n",
       "\n",
       "    .dataframe tbody tr th {\n",
       "        vertical-align: top;\n",
       "    }\n",
       "\n",
       "    .dataframe thead th {\n",
       "        text-align: right;\n",
       "    }\n",
       "</style>\n",
       "<table border=\"1\" class=\"dataframe\">\n",
       "  <thead>\n",
       "    <tr style=\"text-align: right;\">\n",
       "      <th></th>\n",
       "      <th>CreditScore</th>\n",
       "      <th>Age</th>\n",
       "      <th>Tenure</th>\n",
       "      <th>Balance</th>\n",
       "      <th>NumOfProducts</th>\n",
       "      <th>HasCrCard</th>\n",
       "      <th>IsActiveMember</th>\n",
       "      <th>EstimatedSalary</th>\n",
       "      <th>Exited</th>\n",
       "      <th>Geography_Germany</th>\n",
       "      <th>Geography_Spain</th>\n",
       "      <th>Gender_Male</th>\n",
       "    </tr>\n",
       "  </thead>\n",
       "  <tbody>\n",
       "    <tr>\n",
       "      <th>0</th>\n",
       "      <td>619</td>\n",
       "      <td>42</td>\n",
       "      <td>2.0</td>\n",
       "      <td>0.00</td>\n",
       "      <td>1</td>\n",
       "      <td>1</td>\n",
       "      <td>1</td>\n",
       "      <td>101348.88</td>\n",
       "      <td>1</td>\n",
       "      <td>0</td>\n",
       "      <td>0</td>\n",
       "      <td>0</td>\n",
       "    </tr>\n",
       "    <tr>\n",
       "      <th>1</th>\n",
       "      <td>608</td>\n",
       "      <td>41</td>\n",
       "      <td>1.0</td>\n",
       "      <td>83807.86</td>\n",
       "      <td>1</td>\n",
       "      <td>0</td>\n",
       "      <td>1</td>\n",
       "      <td>112542.58</td>\n",
       "      <td>0</td>\n",
       "      <td>0</td>\n",
       "      <td>1</td>\n",
       "      <td>0</td>\n",
       "    </tr>\n",
       "    <tr>\n",
       "      <th>2</th>\n",
       "      <td>502</td>\n",
       "      <td>42</td>\n",
       "      <td>8.0</td>\n",
       "      <td>159660.80</td>\n",
       "      <td>3</td>\n",
       "      <td>1</td>\n",
       "      <td>0</td>\n",
       "      <td>113931.57</td>\n",
       "      <td>1</td>\n",
       "      <td>0</td>\n",
       "      <td>0</td>\n",
       "      <td>0</td>\n",
       "    </tr>\n",
       "    <tr>\n",
       "      <th>3</th>\n",
       "      <td>699</td>\n",
       "      <td>39</td>\n",
       "      <td>1.0</td>\n",
       "      <td>0.00</td>\n",
       "      <td>2</td>\n",
       "      <td>0</td>\n",
       "      <td>0</td>\n",
       "      <td>93826.63</td>\n",
       "      <td>0</td>\n",
       "      <td>0</td>\n",
       "      <td>0</td>\n",
       "      <td>0</td>\n",
       "    </tr>\n",
       "    <tr>\n",
       "      <th>4</th>\n",
       "      <td>850</td>\n",
       "      <td>43</td>\n",
       "      <td>2.0</td>\n",
       "      <td>125510.82</td>\n",
       "      <td>1</td>\n",
       "      <td>1</td>\n",
       "      <td>1</td>\n",
       "      <td>79084.10</td>\n",
       "      <td>0</td>\n",
       "      <td>0</td>\n",
       "      <td>1</td>\n",
       "      <td>0</td>\n",
       "    </tr>\n",
       "  </tbody>\n",
       "</table>\n",
       "</div>"
      ],
      "text/plain": [
       "   CreditScore  Age  Tenure    Balance  NumOfProducts  HasCrCard  \\\n",
       "0          619   42     2.0       0.00              1          1   \n",
       "1          608   41     1.0   83807.86              1          0   \n",
       "2          502   42     8.0  159660.80              3          1   \n",
       "3          699   39     1.0       0.00              2          0   \n",
       "4          850   43     2.0  125510.82              1          1   \n",
       "\n",
       "   IsActiveMember  EstimatedSalary  Exited  Geography_Germany  \\\n",
       "0               1        101348.88       1                  0   \n",
       "1               1        112542.58       0                  0   \n",
       "2               0        113931.57       1                  0   \n",
       "3               0         93826.63       0                  0   \n",
       "4               1         79084.10       0                  0   \n",
       "\n",
       "   Geography_Spain  Gender_Male  \n",
       "0                0            0  \n",
       "1                1            0  \n",
       "2                0            0  \n",
       "3                0            0  \n",
       "4                1            0  "
      ]
     },
     "metadata": {},
     "output_type": "display_data"
    }
   ],
   "source": [
    "data = data.drop(['Surname', 'RowNumber', 'CustomerId'], axis=1)\n",
    "data['Tenure'] = data['Tenure'].fillna(data['Tenure'].median())\n",
    "data_ohe = pd.get_dummies(data, drop_first=True)\n",
    "display(data_ohe.head())"
   ]
  },
  {
   "cell_type": "code",
   "execution_count": 6,
   "metadata": {},
   "outputs": [],
   "source": [
    "features = data_ohe.drop('Exited', axis=1)\n",
    "target = data_ohe['Exited']\n",
    "features_train, features_valid, target_train, target_valid = train_test_split(features, target, test_size=0.4, random_state=12345)\n",
    "features_valid, features_test, target_valid, target_test = train_test_split(features_valid, target_valid, test_size=0.5, random_state=12345)\n",
    "\n"
   ]
  },
  {
   "cell_type": "code",
   "execution_count": 7,
   "metadata": {},
   "outputs": [
    {
     "name": "stdout",
     "output_type": "stream",
     "text": [
      "6000\n",
      "2000\n",
      "2000\n"
     ]
    }
   ],
   "source": [
    "#код ревьюера\n",
    "print(features_train.shape[0])\n",
    "print(features_valid.shape[0])\n",
    "print(features_test.shape[0])"
   ]
  },
  {
   "cell_type": "code",
   "execution_count": 8,
   "metadata": {},
   "outputs": [
    {
     "data": {
      "text/html": [
       "<div>\n",
       "<style scoped>\n",
       "    .dataframe tbody tr th:only-of-type {\n",
       "        vertical-align: middle;\n",
       "    }\n",
       "\n",
       "    .dataframe tbody tr th {\n",
       "        vertical-align: top;\n",
       "    }\n",
       "\n",
       "    .dataframe thead th {\n",
       "        text-align: right;\n",
       "    }\n",
       "</style>\n",
       "<table border=\"1\" class=\"dataframe\">\n",
       "  <thead>\n",
       "    <tr style=\"text-align: right;\">\n",
       "      <th></th>\n",
       "      <th>CreditScore</th>\n",
       "      <th>Age</th>\n",
       "      <th>Tenure</th>\n",
       "      <th>Balance</th>\n",
       "      <th>NumOfProducts</th>\n",
       "      <th>HasCrCard</th>\n",
       "      <th>IsActiveMember</th>\n",
       "      <th>EstimatedSalary</th>\n",
       "      <th>Geography_Germany</th>\n",
       "      <th>Geography_Spain</th>\n",
       "      <th>Gender_Male</th>\n",
       "    </tr>\n",
       "  </thead>\n",
       "  <tbody>\n",
       "    <tr>\n",
       "      <th>7479</th>\n",
       "      <td>-0.886751</td>\n",
       "      <td>-0.373192</td>\n",
       "      <td>1.082277</td>\n",
       "      <td>1.232271</td>\n",
       "      <td>-0.891560</td>\n",
       "      <td>1</td>\n",
       "      <td>0</td>\n",
       "      <td>-0.187705</td>\n",
       "      <td>0</td>\n",
       "      <td>1</td>\n",
       "      <td>1</td>\n",
       "    </tr>\n",
       "    <tr>\n",
       "      <th>3411</th>\n",
       "      <td>0.608663</td>\n",
       "      <td>-0.183385</td>\n",
       "      <td>1.082277</td>\n",
       "      <td>0.600563</td>\n",
       "      <td>-0.891560</td>\n",
       "      <td>0</td>\n",
       "      <td>0</td>\n",
       "      <td>-0.333945</td>\n",
       "      <td>0</td>\n",
       "      <td>0</td>\n",
       "      <td>0</td>\n",
       "    </tr>\n",
       "    <tr>\n",
       "      <th>6027</th>\n",
       "      <td>2.052152</td>\n",
       "      <td>0.480939</td>\n",
       "      <td>-0.737696</td>\n",
       "      <td>1.027098</td>\n",
       "      <td>0.830152</td>\n",
       "      <td>0</td>\n",
       "      <td>1</td>\n",
       "      <td>1.503095</td>\n",
       "      <td>1</td>\n",
       "      <td>0</td>\n",
       "      <td>1</td>\n",
       "    </tr>\n",
       "    <tr>\n",
       "      <th>1247</th>\n",
       "      <td>-1.457915</td>\n",
       "      <td>-1.417129</td>\n",
       "      <td>0.354288</td>\n",
       "      <td>-1.233163</td>\n",
       "      <td>0.830152</td>\n",
       "      <td>1</td>\n",
       "      <td>0</td>\n",
       "      <td>-1.071061</td>\n",
       "      <td>0</td>\n",
       "      <td>0</td>\n",
       "      <td>1</td>\n",
       "    </tr>\n",
       "    <tr>\n",
       "      <th>3716</th>\n",
       "      <td>0.130961</td>\n",
       "      <td>-1.132419</td>\n",
       "      <td>-1.101690</td>\n",
       "      <td>1.140475</td>\n",
       "      <td>-0.891560</td>\n",
       "      <td>0</td>\n",
       "      <td>0</td>\n",
       "      <td>1.524268</td>\n",
       "      <td>1</td>\n",
       "      <td>0</td>\n",
       "      <td>0</td>\n",
       "    </tr>\n",
       "  </tbody>\n",
       "</table>\n",
       "</div>"
      ],
      "text/plain": [
       "      CreditScore       Age    Tenure   Balance  NumOfProducts  HasCrCard  \\\n",
       "7479    -0.886751 -0.373192  1.082277  1.232271      -0.891560          1   \n",
       "3411     0.608663 -0.183385  1.082277  0.600563      -0.891560          0   \n",
       "6027     2.052152  0.480939 -0.737696  1.027098       0.830152          0   \n",
       "1247    -1.457915 -1.417129  0.354288 -1.233163       0.830152          1   \n",
       "3716     0.130961 -1.132419 -1.101690  1.140475      -0.891560          0   \n",
       "\n",
       "      IsActiveMember  EstimatedSalary  Geography_Germany  Geography_Spain  \\\n",
       "7479               0        -0.187705                  0                1   \n",
       "3411               0        -0.333945                  0                0   \n",
       "6027               1         1.503095                  1                0   \n",
       "1247               0        -1.071061                  0                0   \n",
       "3716               0         1.524268                  1                0   \n",
       "\n",
       "      Gender_Male  \n",
       "7479            1  \n",
       "3411            0  \n",
       "6027            1  \n",
       "1247            1  \n",
       "3716            0  "
      ]
     },
     "metadata": {},
     "output_type": "display_data"
    },
    {
     "data": {
      "text/html": [
       "<div>\n",
       "<style scoped>\n",
       "    .dataframe tbody tr th:only-of-type {\n",
       "        vertical-align: middle;\n",
       "    }\n",
       "\n",
       "    .dataframe tbody tr th {\n",
       "        vertical-align: top;\n",
       "    }\n",
       "\n",
       "    .dataframe thead th {\n",
       "        text-align: right;\n",
       "    }\n",
       "</style>\n",
       "<table border=\"1\" class=\"dataframe\">\n",
       "  <thead>\n",
       "    <tr style=\"text-align: right;\">\n",
       "      <th></th>\n",
       "      <th>CreditScore</th>\n",
       "      <th>Age</th>\n",
       "      <th>Tenure</th>\n",
       "      <th>Balance</th>\n",
       "      <th>NumOfProducts</th>\n",
       "      <th>HasCrCard</th>\n",
       "      <th>IsActiveMember</th>\n",
       "      <th>EstimatedSalary</th>\n",
       "      <th>Geography_Germany</th>\n",
       "      <th>Geography_Spain</th>\n",
       "      <th>Gender_Male</th>\n",
       "    </tr>\n",
       "  </thead>\n",
       "  <tbody>\n",
       "    <tr>\n",
       "      <th>8532</th>\n",
       "      <td>-0.699824</td>\n",
       "      <td>-0.373192</td>\n",
       "      <td>-1.101690</td>\n",
       "      <td>-1.233163</td>\n",
       "      <td>0.830152</td>\n",
       "      <td>1</td>\n",
       "      <td>0</td>\n",
       "      <td>-0.015173</td>\n",
       "      <td>0</td>\n",
       "      <td>0</td>\n",
       "      <td>0</td>\n",
       "    </tr>\n",
       "    <tr>\n",
       "      <th>5799</th>\n",
       "      <td>-0.284431</td>\n",
       "      <td>0.575842</td>\n",
       "      <td>-0.737696</td>\n",
       "      <td>-1.233163</td>\n",
       "      <td>-0.891560</td>\n",
       "      <td>1</td>\n",
       "      <td>1</td>\n",
       "      <td>1.471724</td>\n",
       "      <td>0</td>\n",
       "      <td>0</td>\n",
       "      <td>0</td>\n",
       "    </tr>\n",
       "    <tr>\n",
       "      <th>5511</th>\n",
       "      <td>0.151731</td>\n",
       "      <td>-0.657902</td>\n",
       "      <td>-1.829679</td>\n",
       "      <td>0.438711</td>\n",
       "      <td>-0.891560</td>\n",
       "      <td>1</td>\n",
       "      <td>0</td>\n",
       "      <td>-1.367107</td>\n",
       "      <td>1</td>\n",
       "      <td>0</td>\n",
       "      <td>1</td>\n",
       "    </tr>\n",
       "    <tr>\n",
       "      <th>7365</th>\n",
       "      <td>-0.876366</td>\n",
       "      <td>-0.278288</td>\n",
       "      <td>1.810266</td>\n",
       "      <td>1.239884</td>\n",
       "      <td>-0.891560</td>\n",
       "      <td>1</td>\n",
       "      <td>1</td>\n",
       "      <td>-0.786517</td>\n",
       "      <td>0</td>\n",
       "      <td>1</td>\n",
       "      <td>0</td>\n",
       "    </tr>\n",
       "    <tr>\n",
       "      <th>7367</th>\n",
       "      <td>-0.481743</td>\n",
       "      <td>0.291132</td>\n",
       "      <td>1.810266</td>\n",
       "      <td>-1.233163</td>\n",
       "      <td>0.830152</td>\n",
       "      <td>1</td>\n",
       "      <td>0</td>\n",
       "      <td>1.358533</td>\n",
       "      <td>0</td>\n",
       "      <td>1</td>\n",
       "      <td>1</td>\n",
       "    </tr>\n",
       "  </tbody>\n",
       "</table>\n",
       "</div>"
      ],
      "text/plain": [
       "      CreditScore       Age    Tenure   Balance  NumOfProducts  HasCrCard  \\\n",
       "8532    -0.699824 -0.373192 -1.101690 -1.233163       0.830152          1   \n",
       "5799    -0.284431  0.575842 -0.737696 -1.233163      -0.891560          1   \n",
       "5511     0.151731 -0.657902 -1.829679  0.438711      -0.891560          1   \n",
       "7365    -0.876366 -0.278288  1.810266  1.239884      -0.891560          1   \n",
       "7367    -0.481743  0.291132  1.810266 -1.233163       0.830152          1   \n",
       "\n",
       "      IsActiveMember  EstimatedSalary  Geography_Germany  Geography_Spain  \\\n",
       "8532               0        -0.015173                  0                0   \n",
       "5799               1         1.471724                  0                0   \n",
       "5511               0        -1.367107                  1                0   \n",
       "7365               1        -0.786517                  0                1   \n",
       "7367               0         1.358533                  0                1   \n",
       "\n",
       "      Gender_Male  \n",
       "8532            0  \n",
       "5799            0  \n",
       "5511            1  \n",
       "7365            0  \n",
       "7367            1  "
      ]
     },
     "metadata": {},
     "output_type": "display_data"
    },
    {
     "data": {
      "text/html": [
       "<div>\n",
       "<style scoped>\n",
       "    .dataframe tbody tr th:only-of-type {\n",
       "        vertical-align: middle;\n",
       "    }\n",
       "\n",
       "    .dataframe tbody tr th {\n",
       "        vertical-align: top;\n",
       "    }\n",
       "\n",
       "    .dataframe thead th {\n",
       "        text-align: right;\n",
       "    }\n",
       "</style>\n",
       "<table border=\"1\" class=\"dataframe\">\n",
       "  <thead>\n",
       "    <tr style=\"text-align: right;\">\n",
       "      <th></th>\n",
       "      <th>CreditScore</th>\n",
       "      <th>Age</th>\n",
       "      <th>Tenure</th>\n",
       "      <th>Balance</th>\n",
       "      <th>NumOfProducts</th>\n",
       "      <th>HasCrCard</th>\n",
       "      <th>IsActiveMember</th>\n",
       "      <th>EstimatedSalary</th>\n",
       "      <th>Geography_Germany</th>\n",
       "      <th>Geography_Spain</th>\n",
       "      <th>Gender_Male</th>\n",
       "    </tr>\n",
       "  </thead>\n",
       "  <tbody>\n",
       "    <tr>\n",
       "      <th>7041</th>\n",
       "      <td>-2.226392</td>\n",
       "      <td>-0.088482</td>\n",
       "      <td>-1.101690</td>\n",
       "      <td>-1.233163</td>\n",
       "      <td>0.830152</td>\n",
       "      <td>1</td>\n",
       "      <td>0</td>\n",
       "      <td>0.647083</td>\n",
       "      <td>0</td>\n",
       "      <td>0</td>\n",
       "      <td>1</td>\n",
       "    </tr>\n",
       "    <tr>\n",
       "      <th>5709</th>\n",
       "      <td>-0.087120</td>\n",
       "      <td>0.006422</td>\n",
       "      <td>1.446272</td>\n",
       "      <td>-1.233163</td>\n",
       "      <td>-0.891560</td>\n",
       "      <td>1</td>\n",
       "      <td>0</td>\n",
       "      <td>-1.658410</td>\n",
       "      <td>0</td>\n",
       "      <td>0</td>\n",
       "      <td>0</td>\n",
       "    </tr>\n",
       "    <tr>\n",
       "      <th>7117</th>\n",
       "      <td>-0.917905</td>\n",
       "      <td>-0.752805</td>\n",
       "      <td>-0.009707</td>\n",
       "      <td>0.722307</td>\n",
       "      <td>-0.891560</td>\n",
       "      <td>1</td>\n",
       "      <td>1</td>\n",
       "      <td>-1.369334</td>\n",
       "      <td>0</td>\n",
       "      <td>1</td>\n",
       "      <td>1</td>\n",
       "    </tr>\n",
       "    <tr>\n",
       "      <th>7775</th>\n",
       "      <td>-0.253277</td>\n",
       "      <td>0.101325</td>\n",
       "      <td>1.810266</td>\n",
       "      <td>-1.233163</td>\n",
       "      <td>0.830152</td>\n",
       "      <td>1</td>\n",
       "      <td>0</td>\n",
       "      <td>0.075086</td>\n",
       "      <td>0</td>\n",
       "      <td>1</td>\n",
       "      <td>1</td>\n",
       "    </tr>\n",
       "    <tr>\n",
       "      <th>8735</th>\n",
       "      <td>0.785204</td>\n",
       "      <td>-0.847708</td>\n",
       "      <td>1.810266</td>\n",
       "      <td>0.615625</td>\n",
       "      <td>-0.891560</td>\n",
       "      <td>0</td>\n",
       "      <td>1</td>\n",
       "      <td>-1.070919</td>\n",
       "      <td>0</td>\n",
       "      <td>0</td>\n",
       "      <td>1</td>\n",
       "    </tr>\n",
       "  </tbody>\n",
       "</table>\n",
       "</div>"
      ],
      "text/plain": [
       "      CreditScore       Age    Tenure   Balance  NumOfProducts  HasCrCard  \\\n",
       "7041    -2.226392 -0.088482 -1.101690 -1.233163       0.830152          1   \n",
       "5709    -0.087120  0.006422  1.446272 -1.233163      -0.891560          1   \n",
       "7117    -0.917905 -0.752805 -0.009707  0.722307      -0.891560          1   \n",
       "7775    -0.253277  0.101325  1.810266 -1.233163       0.830152          1   \n",
       "8735     0.785204 -0.847708  1.810266  0.615625      -0.891560          0   \n",
       "\n",
       "      IsActiveMember  EstimatedSalary  Geography_Germany  Geography_Spain  \\\n",
       "7041               0         0.647083                  0                0   \n",
       "5709               0        -1.658410                  0                0   \n",
       "7117               1        -1.369334                  0                1   \n",
       "7775               0         0.075086                  0                1   \n",
       "8735               1        -1.070919                  0                0   \n",
       "\n",
       "      Gender_Male  \n",
       "7041            1  \n",
       "5709            0  \n",
       "7117            1  \n",
       "7775            1  \n",
       "8735            1  "
      ]
     },
     "metadata": {},
     "output_type": "display_data"
    }
   ],
   "source": [
    "numeric = ['CreditScore', 'Age', 'Tenure', 'Balance', 'NumOfProducts', 'EstimatedSalary']\n",
    "scaler = StandardScaler()\n",
    "scaler.fit(features_train[numeric])\n",
    "features_train[numeric] = scaler.transform(features_train[numeric])\n",
    "features_valid[numeric] = scaler.transform(features_valid[numeric])\n",
    "features_test[numeric] = scaler.transform(features_test[numeric])\n",
    "\n",
    "display(features_train.head())\n",
    "display(features_valid.head())\n",
    "display(features_test.head())"
   ]
  },
  {
   "cell_type": "markdown",
   "metadata": {},
   "source": [
    "Загрузил данные и вложил в переменную \"data\", после чего изучил данные. Посчитал, что столбцы 'Surname', 'RowNumber', 'CustomerId' не влияют на результат предсказаний, но могут помешать обучению модели, потому удалил. Пропуски в столбце 'Tenure' заменил медианным значением. Методом OHE преобразовал столбцы 'Geography' и 'Gender' в количественные. Далее выделил признаки и целевой признак, разделил данные на обучающую, валидационную и тестовую выборки и масштабировал признаки."
   ]
  },
  {
   "cell_type": "markdown",
   "metadata": {},
   "source": [
    "## Исследование задачи"
   ]
  },
  {
   "cell_type": "code",
   "execution_count": 9,
   "metadata": {},
   "outputs": [
    {
     "data": {
      "text/plain": [
       "0.802"
      ]
     },
     "metadata": {},
     "output_type": "display_data"
    },
    {
     "data": {
      "text/plain": [
       "0.791"
      ]
     },
     "metadata": {},
     "output_type": "display_data"
    },
    {
     "data": {
      "text/plain": [
       "4804"
      ]
     },
     "metadata": {},
     "output_type": "display_data"
    },
    {
     "data": {
      "text/plain": [
       "1196"
      ]
     },
     "metadata": {},
     "output_type": "display_data"
    }
   ],
   "source": [
    "model = LogisticRegression()\n",
    "model.fit(features_train, target_train)\n",
    "predictions_valid = model.predict(features_valid)\n",
    "display(accuracy_score(target_valid, predictions_valid))\n",
    "\n",
    "predictions_constant = pd.Series([0]*len(target_valid))\n",
    "display(accuracy_score(target_valid, predictions_constant))\n",
    "\n",
    "display(target_train[target_train == 0].count())\n",
    "display(target_train[target_train == 1].count())"
   ]
  },
  {
   "cell_type": "markdown",
   "metadata": {},
   "source": [
    "Создал модель логистической регрессии и проверил качество модели - 80%, хороший результат. Решил сравнить качество модели с константной моделью, результат тот же. Проверил сбалансированность классов обучающей выборки и оказалось, что присутствует дисбаланс классов, отрицательных больше чем положительных. "
   ]
  },
  {
   "cell_type": "code",
   "execution_count": 10,
   "metadata": {},
   "outputs": [
    {
     "name": "stdout",
     "output_type": "stream",
     "text": [
      "f1-мера лучшей модели \"Решающее дерево\": 0.5696969696969697\n",
      "Лучшая модель: DecisionTreeClassifier(max_depth=6, random_state=12345)\n",
      "Площадь под ROC-кривой: 0.6840857675161356\n"
     ]
    }
   ],
   "source": [
    "#Решающее дерево\n",
    "best_model = None\n",
    "best_result = 0\n",
    "for depth in range(1, 20, 1):\n",
    "    model = DecisionTreeClassifier(random_state=12345, max_depth=depth)\n",
    "    model.fit(features_train, target_train)\n",
    "    predictions_valid = model.predict(features_valid)\n",
    "    result = f1_score(target_valid, predictions_valid)\n",
    "    if result > best_result:\n",
    "        best_model = model\n",
    "        best_result = result\n",
    "probabilities_valid = model.predict_proba(features_valid)\n",
    "print('f1-мера лучшей модели \"Решающее дерево\":', best_result)\n",
    "print('Лучшая модель:', best_model)\n",
    "print('Площадь под ROC-кривой:', roc_auc_score(target_valid, probabilities_valid[:, 1]))"
   ]
  },
  {
   "cell_type": "code",
   "execution_count": 11,
   "metadata": {},
   "outputs": [
    {
     "name": "stdout",
     "output_type": "stream",
     "text": [
      "f1-мера лучшей модели \"Случайный лес\": 0.5999999999999999\n",
      "Лучшая модель: RandomForestClassifier(max_depth=14, n_estimators=9, random_state=12345)\n",
      "Площадь под ROC-кривой: 0.8363156987400117\n"
     ]
    }
   ],
   "source": [
    "#Случайный лес\n",
    "best_model = None\n",
    "best_result = 0\n",
    "for est in range(1, 100, 1):\n",
    "    for depth in range(1, 20,1):\n",
    "        model_forest = RandomForestClassifier(random_state=12345, n_estimators=est, max_depth=depth)\n",
    "        model_forest.fit(features_train, target_train)\n",
    "        predictions_forest = model_forest.predict(features_valid)\n",
    "        result = f1_score(target_valid, predictions_forest)\n",
    "        if result > best_result:\n",
    "            best_model = model_forest\n",
    "            best_result = result\n",
    "probabilities_valid = model_forest.predict_proba(features_valid)           \n",
    "print('f1-мера лучшей модели \"Случайный лес\":', best_result)\n",
    "print('Лучшая модель:', best_model)\n",
    "print('Площадь под ROC-кривой:', roc_auc_score(target_valid, probabilities_valid[:, 1]))"
   ]
  },
  {
   "cell_type": "code",
   "execution_count": 22,
   "metadata": {},
   "outputs": [
    {
     "name": "stdout",
     "output_type": "stream",
     "text": [
      "f1-мера лучшей модели \"Логистическая регрессия\": 0.33108108108108103\n",
      "Лучшая модель: LogisticRegression(random_state=12345)\n",
      "Площадь под ROC-кривой: 0.7587512627102753\n"
     ]
    }
   ],
   "source": [
    "#Логистическая регрессия\n",
    "best_model_reg = None\n",
    "best_result_reg = 0\n",
    "for itr in range(100, 1000):\n",
    "    for sol in ['lbfgs', 'liblinear']:\n",
    "        model_reg = LogisticRegression(random_state=12345, solver=sol, max_iter=itr)\n",
    "        model_reg.fit(features_train, target_train)\n",
    "        predictions_reg = model_reg.predict(features_valid)\n",
    "        result_reg = f1_score(target_valid, predictions_reg)\n",
    "        if result_reg > best_result_reg:\n",
    "            best_model_reg = model_reg\n",
    "            best_result_reg = result_reg\n",
    "probabilities_valid = model_reg.predict_proba(features_valid)       \n",
    "print('f1-мера лучшей модели \"Логистическая регрессия\":', best_result_reg)\n",
    "print('Лучшая модель:', best_model_reg)\n",
    "print('Площадь под ROC-кривой:', roc_auc_score(target_valid, probabilities_valid[:, 1]))"
   ]
  },
  {
   "cell_type": "markdown",
   "metadata": {},
   "source": [
    "Провел измерение f1-меры и AUC-ROC разных моделей без учета дисбаланса с различными гиперпараметрами. На данном этапе лучший результат показала модель: `RandomForestClassifier(max_depth=14, n_estimators=9, random_state=12345)` со значением f1-меры 0.599"
   ]
  },
  {
   "cell_type": "markdown",
   "metadata": {},
   "source": [
    "## Борьба с дисбалансом"
   ]
  },
  {
   "cell_type": "code",
   "execution_count": 13,
   "metadata": {},
   "outputs": [
    {
     "data": {
      "text/plain": [
       "(9588, 11)"
      ]
     },
     "metadata": {},
     "output_type": "display_data"
    },
    {
     "data": {
      "text/plain": [
       "(9588,)"
      ]
     },
     "metadata": {},
     "output_type": "display_data"
    },
    {
     "data": {
      "text/plain": [
       "4804"
      ]
     },
     "metadata": {},
     "output_type": "display_data"
    },
    {
     "data": {
      "text/plain": [
       "4784"
      ]
     },
     "metadata": {},
     "output_type": "display_data"
    }
   ],
   "source": [
    "def upsample(features, target, repeat):\n",
    "    features_zeros = features[target == 0]\n",
    "    features_ones = features[target == 1]\n",
    "    target_zeros = target[target == 0]\n",
    "    target_ones = target[target == 1]\n",
    "    features_upsampled = pd.concat([features_zeros] + [features_ones] * repeat)\n",
    "    target_upsampled = pd.concat([target_zeros] + [target_ones] * repeat) \n",
    "    return features_upsampled, target_upsampled\n",
    "\n",
    "features_upsampled, target_upsampled = upsample(features_train, target_train, 4)\n",
    "features_upsampled, target_upsampled = shuffle(features_upsampled, target_upsampled, random_state=12345)\n",
    "display(features_upsampled.shape)\n",
    "display(target_upsampled.shape)\n",
    "display(target_upsampled[target_upsampled == 0].count())\n",
    "display(target_upsampled[target_upsampled == 1].count())"
   ]
  },
  {
   "cell_type": "markdown",
   "metadata": {},
   "source": [
    "При помощи функции \"upsample\" исправил дисбаланс классов, далее проверим как обучится модель с обработанными выборками."
   ]
  },
  {
   "cell_type": "code",
   "execution_count": 14,
   "metadata": {},
   "outputs": [
    {
     "name": "stdout",
     "output_type": "stream",
     "text": [
      "f1-мера лучшей модели \"Решающее дерево\": 0.5963791267305644\n",
      "Лучшая модель: DecisionTreeClassifier(max_depth=5, random_state=12345)\n",
      "Площадь под ROC-кривой: 0.6760203001469886\n"
     ]
    }
   ],
   "source": [
    "#Решающее дерево\n",
    "best_model = None\n",
    "best_result = 0\n",
    "for depth in range(1, 20, 1):\n",
    "    model = DecisionTreeClassifier(random_state=12345, max_depth=depth)\n",
    "    model.fit(features_upsampled, target_upsampled)\n",
    "    predictions_valid = model.predict(features_valid)\n",
    "    result = f1_score(target_valid, predictions_valid)\n",
    "    if result > best_result:\n",
    "        best_model = model\n",
    "        best_result = result\n",
    "probabilities_valid = model.predict_proba(features_valid)       \n",
    "print('f1-мера лучшей модели \"Решающее дерево\":', best_result)\n",
    "print('Лучшая модель:', best_model)\n",
    "print('Площадь под ROC-кривой:', roc_auc_score(target_valid, probabilities_valid[:, 1]))\n"
   ]
  },
  {
   "cell_type": "markdown",
   "metadata": {},
   "source": [
    "## 2 коммит - добавил дополнительный гиперпараметр при обучении модели"
   ]
  },
  {
   "cell_type": "code",
   "execution_count": 15,
   "metadata": {},
   "outputs": [
    {
     "name": "stdout",
     "output_type": "stream",
     "text": [
      "f1-мера лучшей модели \"Случайный лес\": 0.6312433581296492\n",
      "Лучшая модель: RandomForestClassifier(max_depth=9, n_estimators=67, random_state=12345)\n",
      "Площадь под ROC-кривой: 0.8419706748770559\n"
     ]
    }
   ],
   "source": [
    "#Случайный лес\n",
    "best_model = None\n",
    "best_result = 0\n",
    "for est in range(1, 100, 1):\n",
    "    for depth in range(1, 20, 1):\n",
    "        for max_f in [2,4,6,8,10]:\n",
    "            model_forest = RandomForestClassifier(random_state=12345, n_estimators=est, max_depth=depth, max_features=max_f)\n",
    "            model_forest.fit(features_upsampled, target_upsampled)\n",
    "            predictions_forest = model_forest.predict(features_valid)\n",
    "            result = f1_score(target_valid, predictions_forest)\n",
    "            if result > best_result:\n",
    "                best_model = model_forest\n",
    "                best_result = result\n",
    "probabilities_valid = model_forest.predict_proba(features_valid)\n",
    "print('f1-мера лучшей модели \"Случайный лес\":', best_result)\n",
    "print('Лучшая модель:', best_model)\n",
    "print('Площадь под ROC-кривой:', roc_auc_score(target_valid, probabilities_valid[:, 1]))\n",
    "\n"
   ]
  },
  {
   "cell_type": "code",
   "execution_count": 23,
   "metadata": {},
   "outputs": [
    {
     "name": "stdout",
     "output_type": "stream",
     "text": [
      "f1-мера лучшей модели \"Логистическая регрессия\": 0.4888507718696398\n",
      "Лучшая модель: LogisticRegression(random_state=12345)\n",
      "Площадь под ROC-кривой: 0.7636478565682107\n"
     ]
    }
   ],
   "source": [
    "#Логистическая регрессия\n",
    "best_model_reg = None\n",
    "best_result_reg = 0\n",
    "for itr in range(100, 1000):\n",
    "    for sol in ['lbfgs', 'liblinear']:\n",
    "        model_reg = LogisticRegression(random_state=12345, solver=sol, max_iter=itr)\n",
    "        model_reg.fit(features_upsampled, target_upsampled)\n",
    "        predictions_reg = model_reg.predict(features_valid)\n",
    "        result_reg = f1_score(target_valid, predictions_reg)\n",
    "        if result_reg > best_result_reg:\n",
    "            best_model_reg = model_reg\n",
    "            best_result_reg = result_reg\n",
    "probabilities_valid = model_reg.predict_proba(features_valid)\n",
    "print('f1-мера лучшей модели \"Логистическая регрессия\":', best_result_reg)\n",
    "print('Лучшая модель:', best_model_reg)\n",
    "print('Площадь под ROC-кривой:', roc_auc_score(target_valid, probabilities_valid[:, 1]))"
   ]
  },
  {
   "cell_type": "markdown",
   "metadata": {},
   "source": [
    "При использовании техники upsampling лучший результат выдала модель \"Случайный лес\", значений f1-меры 0,63, а AUC-ROC 0,84.\n",
    "Далее попробуем технику downsampling."
   ]
  },
  {
   "cell_type": "code",
   "execution_count": 17,
   "metadata": {},
   "outputs": [],
   "source": [
    "def downsample(features, target, fraction):\n",
    "    features_zeros = features[target == 0]\n",
    "    features_ones = features[target == 1]\n",
    "    target_zeros = target[target == 0]\n",
    "    target_ones = target[target == 1]\n",
    "    \n",
    "    features_sample = features_zeros.sample(frac=fraction, random_state=12345)\n",
    "    target_sample = target_zeros.sample(frac=fraction, random_state=12345)\n",
    "    features_downsampled = pd.concat([features_sample]+[features_ones])\n",
    "    target_downsampled = pd.concat([target_sample]+[target_ones])\n",
    "    features_downsampled, target_downsampled = shuffle(features_downsampled, target_downsampled, random_state=12345)\n",
    "    return features_downsampled, target_downsampled\n",
    "\n",
    "features_downsampled, target_downsampled = downsample(features_train, target_train, 0.25)\n"
   ]
  },
  {
   "cell_type": "markdown",
   "metadata": {},
   "source": [
    "Исправил дисбаланс классов при помощи функции downsample, проверим как обучится модель на новой обучающей выборке."
   ]
  },
  {
   "cell_type": "code",
   "execution_count": 18,
   "metadata": {},
   "outputs": [
    {
     "name": "stdout",
     "output_type": "stream",
     "text": [
      "f1-мера лучшей модели \"Решающее дерево\": 0.5943204868154158\n",
      "Лучшая модель: DecisionTreeClassifier(max_depth=5, random_state=12345)\n",
      "Площадь под ROC-кривой: 0.6953632068909199\n"
     ]
    }
   ],
   "source": [
    "#Решающее дерево\n",
    "best_model = None\n",
    "best_result = 0\n",
    "for depth in range(1, 20, 1):\n",
    "    model = DecisionTreeClassifier(random_state=12345, max_depth=depth)\n",
    "    model.fit(features_downsampled, target_downsampled)\n",
    "    predictions_valid = model.predict(features_valid)\n",
    "    result = f1_score(target_valid, predictions_valid)\n",
    "    if result > best_result:\n",
    "        best_model = model\n",
    "        best_result = result\n",
    "probabilities_valid = model.predict_proba(features_valid)       \n",
    "print('f1-мера лучшей модели \"Решающее дерево\":', best_result)\n",
    "print('Лучшая модель:', best_model)\n",
    "print('Площадь под ROC-кривой:', roc_auc_score(target_valid, probabilities_valid[:, 1]))\n"
   ]
  },
  {
   "cell_type": "code",
   "execution_count": 21,
   "metadata": {},
   "outputs": [
    {
     "name": "stdout",
     "output_type": "stream",
     "text": [
      "f1-мера лучшей модели \"Случайный лес\": 0.6092184368737475\n",
      "Лучшая модель: RandomForestClassifier(max_depth=4, n_estimators=10, random_state=12345)\n",
      "Площадь под ROC-кривой: 0.8454775313182393\n"
     ]
    }
   ],
   "source": [
    "#Случайный лес\n",
    "best_model = None\n",
    "best_result = 0\n",
    "for est in range(1, 100, 1):\n",
    "    for depth in range(1, 20, 1):\n",
    "        model_forest = RandomForestClassifier(random_state=12345, n_estimators=est, max_depth=depth)\n",
    "        model_forest.fit(features_downsampled, target_downsampled)\n",
    "        predictions_forest = model_forest.predict(features_valid)\n",
    "        result = f1_score(target_valid, predictions_forest)\n",
    "        if result > best_result:\n",
    "            best_model = model_forest\n",
    "            best_result = result\n",
    "probabilities_valid = model_forest.predict_proba(features_valid)\n",
    "print('f1-мера лучшей модели \"Случайный лес\":', best_result)\n",
    "print('Лучшая модель:', best_model)\n",
    "print('Площадь под ROC-кривой:', roc_auc_score(target_valid, probabilities_valid[:, 1]))"
   ]
  },
  {
   "cell_type": "code",
   "execution_count": 24,
   "metadata": {
    "scrolled": true
   },
   "outputs": [
    {
     "name": "stdout",
     "output_type": "stream",
     "text": [
      "f1-мера лучшей модели \"Логистическая регрессия\": 0.48406546080964685\n",
      "Лучшая модель: LogisticRegression(random_state=12345)\n",
      "Площадь под ROC-кривой: 0.7622883637089505\n"
     ]
    }
   ],
   "source": [
    "#Логистическая регрессия\n",
    "best_model_reg = None\n",
    "best_result_reg = 0\n",
    "for itr in range(100, 1000):\n",
    "    for sol in ['lbfgs', 'liblinear']:\n",
    "        model_reg = LogisticRegression(random_state=12345, solver=sol, max_iter=itr)\n",
    "        model_reg.fit(features_downsampled, target_downsampled)\n",
    "        predictions_reg = model_reg.predict(features_valid)\n",
    "        result_reg = f1_score(target_valid, predictions_reg)\n",
    "        if result_reg > best_result_reg:\n",
    "            best_model_reg = model_reg\n",
    "            best_result_reg = result_reg\n",
    "probabilities_valid = model_reg.predict_proba(features_valid)\n",
    "print('f1-мера лучшей модели \"Логистическая регрессия\":', best_result_reg)\n",
    "print('Лучшая модель:', best_model_reg)\n",
    "print('Площадь под ROC-кривой:', roc_auc_score(target_valid, probabilities_valid[:, 1]))"
   ]
  },
  {
   "cell_type": "markdown",
   "metadata": {},
   "source": [
    "При использовании техники downsampling лучший результат выдала модель \"Случайный лес\", значений f1-меры 0,61, а AUC-ROC 0,85. Теперь посмотрим какой результат выдаст модель с применением параметра class_weight='balanced'."
   ]
  },
  {
   "cell_type": "code",
   "execution_count": 27,
   "metadata": {},
   "outputs": [
    {
     "name": "stdout",
     "output_type": "stream",
     "text": [
      "f1-мера лучшей модели \"Решающее дерево\": 0.5963791267305644\n",
      "Лучшая модель: DecisionTreeClassifier(class_weight='balanced', max_depth=5, random_state=12345)\n",
      "Площадь под ROC-кривой: 0.671212171619717\n"
     ]
    }
   ],
   "source": [
    "#Решающее дерево\n",
    "best_model = None\n",
    "best_result = 0\n",
    "for depth in range(1, 20, 1):\n",
    "    model = DecisionTreeClassifier(random_state=12345, max_depth=depth, class_weight='balanced')\n",
    "    model.fit(features_train, target_train)\n",
    "    predictions_valid = model.predict(features_valid)\n",
    "    result = f1_score(target_valid, predictions_valid)\n",
    "    if result > best_result:\n",
    "        best_model = model\n",
    "        best_result = result\n",
    "probabilities_valid = model.predict_proba(features_valid)       \n",
    "print('f1-мера лучшей модели \"Решающее дерево\":', best_result)\n",
    "print('Лучшая модель:', best_model)\n",
    "print('Площадь под ROC-кривой:', roc_auc_score(target_valid, probabilities_valid[:, 1]))"
   ]
  },
  {
   "cell_type": "code",
   "execution_count": 28,
   "metadata": {},
   "outputs": [
    {
     "name": "stdout",
     "output_type": "stream",
     "text": [
      "f1-мера лучшей модели \"Случайный лес\": 0.631236442516269\n",
      "Лучшая модель: RandomForestClassifier(class_weight='balanced', max_depth=8, n_estimators=47,\n",
      "                       random_state=12345)\n",
      "Площадь под ROC-кривой: 0.8376154585982252\n"
     ]
    }
   ],
   "source": [
    "#Случайный лес\n",
    "best_model = None\n",
    "best_result = 0\n",
    "for est in range(1, 100, 1):\n",
    "    for depth in range(1, 20, 1):\n",
    "        model_forest = RandomForestClassifier(random_state=12345, n_estimators=est, max_depth=depth, class_weight='balanced')\n",
    "        model_forest.fit(features_train, target_train)\n",
    "        predictions_forest = model_forest.predict(features_valid)\n",
    "        result = f1_score(target_valid, predictions_forest)\n",
    "        if result > best_result:\n",
    "            best_model = model_forest\n",
    "            best_result = result\n",
    "probabilities_valid = model_forest.predict_proba(features_valid)\n",
    "print('f1-мера лучшей модели \"Случайный лес\":', best_result)\n",
    "print('Лучшая модель:', best_model)\n",
    "print('Площадь под ROC-кривой:', roc_auc_score(target_valid, probabilities_valid[:, 1]))"
   ]
  },
  {
   "cell_type": "code",
   "execution_count": 30,
   "metadata": {},
   "outputs": [
    {
     "name": "stdout",
     "output_type": "stream",
     "text": [
      "f1-мера лучшей модели \"Логистическая регрессия\": 0.4888507718696398\n",
      "Лучшая модель: LogisticRegression(class_weight='balanced', random_state=12345)\n",
      "Площадь под ROC-кривой: 0.7637310291013133\n"
     ]
    }
   ],
   "source": [
    "#Логистическая регрессия\n",
    "best_model_reg = None\n",
    "best_result_reg = 0\n",
    "for itr in range(100, 1000):\n",
    "    for sol in ['lbfgs', 'liblinear']:\n",
    "        model_reg = LogisticRegression(random_state=12345, solver=sol, max_iter=itr, class_weight = 'balanced')\n",
    "        model_reg.fit(features_train, target_train)\n",
    "        predictions_reg = model_reg.predict(features_valid)\n",
    "        result_reg = f1_score(target_valid, predictions_reg)\n",
    "        if result_reg > best_result_reg:\n",
    "            best_model_reg = model_reg\n",
    "            best_result_reg = result_reg\n",
    "probabilities_valid = model_reg.predict_proba(features_valid)\n",
    "print('f1-мера лучшей модели \"Логистическая регрессия\":', best_result_reg)\n",
    "print('Лучшая модель:', best_model_reg)\n",
    "print('Площадь под ROC-кривой:', roc_auc_score(target_valid, probabilities_valid[:, 1]))"
   ]
  },
  {
   "cell_type": "markdown",
   "metadata": {},
   "source": [
    "Обучил 3 разные модели с учетом дисбаланса классов тремя разными способами, рассчитал для каждой значение f1-меры с разными гиперпараметрами и, по итогу исследования выявил, что наилучшее значение f1-меры имеет модель \"Случайный лес\", обученная по увеличенной выборке. Значение f1-меры - 0,63124, а AUC-ROC - 0,84197, при гиперпараметрах max_depth=9, n_estimators=67.\n",
    "Проведем тестирование модели с полученными параметрами на тестовой выборке."
   ]
  },
  {
   "cell_type": "markdown",
   "metadata": {},
   "source": [
    "## Тестирование модели"
   ]
  },
  {
   "cell_type": "markdown",
   "metadata": {},
   "source": [
    "Проверил модель с новыми гиперпараметрами на тестовой выборке"
   ]
  },
  {
   "cell_type": "code",
   "execution_count": 44,
   "metadata": {},
   "outputs": [
    {
     "data": {
      "image/png": "[encoded data removed]",
      "text/plain": [
       "<Figure size 432x288 with 1 Axes>"
      ]
     },
     "metadata": {
      "needs_background": "light"
     },
     "output_type": "display_data"
    },
    {
     "name": "stdout",
     "output_type": "stream",
     "text": [
      "f1-мера модели на тестовой выборке: 0.604989604989605\n",
      "Площадь под ROC-кривой: 0.8532854823549516\n",
      "Значение Recall: 0.6879432624113475\n"
     ]
    }
   ],
   "source": [
    "model_test = RandomForestClassifier(max_depth=5, max_features=8, n_estimators=28,random_state=12345)\n",
    "model_test.fit(features_upsampled, target_upsampled)\n",
    "predictions_test = model_test.predict(features_test)\n",
    "result = f1_score(target_test, predictions_test)\n",
    "\n",
    "probabilities = model_test.predict_proba(features_test)\n",
    "\n",
    "fpr, tpr, thresholds = roc_curve(target_test, probabilities[:, 1])\n",
    "\n",
    "plt.figure()\n",
    "plt.plot(fpr, tpr, linestyle='--')\n",
    "plt.xlabel('False Positive Rate')\n",
    "plt.ylabel('True Positive Rate')\n",
    "plt.ylim([0.0, 1.0])\n",
    "plt.xlim([0.0, 1.0])\n",
    "plt.title('ROC-Кривая')\n",
    "plt.show()\n",
    "\n",
    "auc_roc = roc_auc_score(target_test, probabilities[:, 1])\n",
    "\n",
    "print('f1-мера модели на тестовой выборке:', result)\n",
    "print('Площадь под ROC-кривой:', auc_roc)\n",
    "print('Значение Recall:', recall_score(target_test, predictions_test))"
   ]
  },
  {
   "cell_type": "markdown",
   "metadata": {},
   "source": [
    "Провел проверку модели \"Случайный лес\" с подобранными параметрами на тестовой выборке, качество модели выраженное в значении f1-меры 0,60, что больше 0,59 по условию задания. Значение площади под ROC-кривой - AUC-ROC = 0,85, метрика не идеальна, но все же результат лучше, чем у случайной модели. Также провел рассчет полноты, recall=0,69, почти 70% положительных ответов выделяет модель, результат не плохой, но тоже далек от идеала."
   ]
  },
  {
   "cell_type": "code",
   "execution_count": 36,
   "metadata": {
    "scrolled": true
   },
   "outputs": [
    {
     "data": {
      "text/plain": [
       "0.3491539413949649"
      ]
     },
     "metadata": {},
     "output_type": "display_data"
    }
   ],
   "source": [
    "predictions_constant = pd.Series([1]*len(target_test))\n",
    "display(f1_score(target_test, predictions_constant))"
   ]
  },
  {
   "cell_type": "markdown",
   "metadata": {},
   "source": [
    "Качество модели \"Случайный лес\", выраженное в f1-мере в 2 раза превышает результат константной модели, то есть выбранная модель лучше предсказывает положительный класс. "
   ]
  },
  {
   "cell_type": "markdown",
   "metadata": {},
   "source": [
    "## Чек-лист готовности проекта"
   ]
  },
  {
   "cell_type": "markdown",
   "metadata": {},
   "source": [
    "Поставьте 'x' в выполненных пунктах. Далее нажмите Shift+Enter."
   ]
  },
  {
   "cell_type": "markdown",
   "metadata": {},
   "source": [
    "- [x]  Jupyter Notebook открыт\n",
    "- [x]  Весь код выполняется без ошибок\n",
    "- [x]  Ячейки с кодом расположены в порядке исполнения\n",
    "- [x]  Выполнен шаг 1: данные подготовлены\n",
    "- [x]  Выполнен шаг 2: задача исследована\n",
    "    - [x]  Исследован баланс классов\n",
    "    - [x]  Изучены модели без учёта дисбаланса\n",
    "    - [x]  Написаны выводы по результатам исследования\n",
    "- [x]  Выполнен шаг 3: учтён дисбаланс\n",
    "    - [x]  Применено несколько способов борьбы с дисбалансом\n",
    "    - [x]  Написаны выводы по результатам исследования\n",
    "- [x]  Выполнен шаг 4: проведено тестирование\n",
    "- [x]  Удалось достичь *F1*-меры не менее 0.59\n",
    "- [x]  Исследована метрика *AUC-ROC*"
   ]
  },
  {
   "cell_type": "code",
   "execution_count": null,
   "metadata": {},
   "outputs": [],
   "source": []
  }
 ],
 "metadata": {
  "ExecuteTimeLog": [
   {
    "duration": 472,
    "start_time": "2023-01-26T14:08:44.097Z"
   },
   {
    "duration": 112,
    "start_time": "2023-01-26T14:09:04.454Z"
   },
   {
    "duration": 55,
    "start_time": "2023-01-26T14:09:34.293Z"
   },
   {
    "duration": 57,
    "start_time": "2023-01-26T14:11:16.519Z"
   },
   {
    "duration": 821,
    "start_time": "2023-01-26T14:13:23.561Z"
   },
   {
    "duration": 37,
    "start_time": "2023-01-26T14:16:29.287Z"
   },
   {
    "duration": 13,
    "start_time": "2023-01-26T14:16:54.372Z"
   },
   {
    "duration": 15,
    "start_time": "2023-01-26T14:17:17.712Z"
   },
   {
    "duration": 44,
    "start_time": "2023-01-26T14:32:44.599Z"
   },
   {
    "duration": 18,
    "start_time": "2023-01-26T14:33:03.264Z"
   },
   {
    "duration": 174,
    "start_time": "2023-01-26T14:46:16.680Z"
   },
   {
    "duration": 86,
    "start_time": "2023-01-26T14:47:45.011Z"
   },
   {
    "duration": 5,
    "start_time": "2023-01-26T14:48:13.212Z"
   },
   {
    "duration": 91,
    "start_time": "2023-01-26T14:48:13.220Z"
   },
   {
    "duration": 25,
    "start_time": "2023-01-26T14:48:13.314Z"
   },
   {
    "duration": 27,
    "start_time": "2023-01-26T14:48:13.341Z"
   },
   {
    "duration": 61,
    "start_time": "2023-01-26T14:48:51.640Z"
   },
   {
    "duration": 70,
    "start_time": "2023-01-26T14:49:01.481Z"
   },
   {
    "duration": 77,
    "start_time": "2023-01-26T14:49:16.976Z"
   },
   {
    "duration": 102,
    "start_time": "2023-01-26T14:49:33.405Z"
   },
   {
    "duration": 71,
    "start_time": "2023-01-26T14:50:09.553Z"
   },
   {
    "duration": 51,
    "start_time": "2023-01-26T14:50:18.146Z"
   },
   {
    "duration": 54,
    "start_time": "2023-01-26T14:50:44.394Z"
   },
   {
    "duration": 65,
    "start_time": "2023-01-26T14:51:47.206Z"
   },
   {
    "duration": 63,
    "start_time": "2023-01-26T14:52:44.229Z"
   },
   {
    "duration": 93,
    "start_time": "2023-01-26T14:52:56.381Z"
   },
   {
    "duration": 47,
    "start_time": "2023-01-26T14:53:08.340Z"
   },
   {
    "duration": 61,
    "start_time": "2023-01-26T14:53:18.153Z"
   },
   {
    "duration": 57,
    "start_time": "2023-01-26T14:54:08.946Z"
   },
   {
    "duration": 41,
    "start_time": "2023-01-26T14:58:05.837Z"
   },
   {
    "duration": 79,
    "start_time": "2023-01-26T15:02:34.254Z"
   },
   {
    "duration": 58,
    "start_time": "2023-01-26T15:02:39.131Z"
   },
   {
    "duration": 82,
    "start_time": "2023-01-26T15:02:59.539Z"
   },
   {
    "duration": 175,
    "start_time": "2023-01-26T15:03:10.066Z"
   },
   {
    "duration": 47,
    "start_time": "2023-01-26T15:04:13.776Z"
   },
   {
    "duration": 55,
    "start_time": "2023-01-26T15:08:42.894Z"
   },
   {
    "duration": 25,
    "start_time": "2023-01-26T15:15:38.299Z"
   },
   {
    "duration": 13,
    "start_time": "2023-01-26T15:16:50.967Z"
   },
   {
    "duration": 4,
    "start_time": "2023-01-26T15:17:01.377Z"
   },
   {
    "duration": 99,
    "start_time": "2023-01-26T15:17:01.384Z"
   },
   {
    "duration": 37,
    "start_time": "2023-01-26T15:17:01.484Z"
   },
   {
    "duration": 43,
    "start_time": "2023-01-26T15:17:01.523Z"
   },
   {
    "duration": 51,
    "start_time": "2023-01-26T15:17:01.569Z"
   },
   {
    "duration": 13,
    "start_time": "2023-01-26T15:20:03.827Z"
   },
   {
    "duration": 3,
    "start_time": "2023-01-26T15:20:14.952Z"
   },
   {
    "duration": 86,
    "start_time": "2023-01-26T15:20:14.957Z"
   },
   {
    "duration": 22,
    "start_time": "2023-01-26T15:20:15.045Z"
   },
   {
    "duration": 178,
    "start_time": "2023-01-26T15:20:15.068Z"
   },
   {
    "duration": 24,
    "start_time": "2023-01-26T15:20:15.249Z"
   },
   {
    "duration": 3,
    "start_time": "2023-01-26T15:20:57.949Z"
   },
   {
    "duration": 84,
    "start_time": "2023-01-26T15:20:57.954Z"
   },
   {
    "duration": 20,
    "start_time": "2023-01-26T15:20:58.039Z"
   },
   {
    "duration": 38,
    "start_time": "2023-01-26T15:20:58.061Z"
   },
   {
    "duration": 24,
    "start_time": "2023-01-26T15:20:58.103Z"
   },
   {
    "duration": 14,
    "start_time": "2023-01-26T15:21:43.019Z"
   },
   {
    "duration": 24,
    "start_time": "2023-01-26T15:24:25.914Z"
   },
   {
    "duration": 21,
    "start_time": "2023-01-26T15:24:34.225Z"
   },
   {
    "duration": 14,
    "start_time": "2023-01-26T15:24:45.569Z"
   },
   {
    "duration": 5,
    "start_time": "2023-01-26T15:24:48.546Z"
   },
   {
    "duration": 79,
    "start_time": "2023-01-26T15:24:48.554Z"
   },
   {
    "duration": 21,
    "start_time": "2023-01-26T15:24:48.636Z"
   },
   {
    "duration": 9,
    "start_time": "2023-01-26T15:24:48.659Z"
   },
   {
    "duration": 50,
    "start_time": "2023-01-26T15:24:48.670Z"
   },
   {
    "duration": 21,
    "start_time": "2023-01-26T15:25:12.723Z"
   },
   {
    "duration": 4,
    "start_time": "2023-01-26T15:25:17.325Z"
   },
   {
    "duration": 73,
    "start_time": "2023-01-26T15:25:17.331Z"
   },
   {
    "duration": 24,
    "start_time": "2023-01-26T15:25:17.406Z"
   },
   {
    "duration": 10,
    "start_time": "2023-01-26T15:25:17.431Z"
   },
   {
    "duration": 17,
    "start_time": "2023-01-26T15:25:17.444Z"
   },
   {
    "duration": 12,
    "start_time": "2023-01-26T15:25:39.565Z"
   },
   {
    "duration": 13,
    "start_time": "2023-01-26T15:25:44.269Z"
   },
   {
    "duration": 21,
    "start_time": "2023-01-26T15:26:38.289Z"
   },
   {
    "duration": 4,
    "start_time": "2023-01-26T15:26:43.658Z"
   },
   {
    "duration": 79,
    "start_time": "2023-01-26T15:26:43.665Z"
   },
   {
    "duration": 13,
    "start_time": "2023-01-26T15:26:43.746Z"
   },
   {
    "duration": 13,
    "start_time": "2023-01-26T15:26:43.761Z"
   },
   {
    "duration": 0,
    "start_time": "2023-01-26T15:26:43.776Z"
   },
   {
    "duration": 4,
    "start_time": "2023-01-26T15:27:05.666Z"
   },
   {
    "duration": 104,
    "start_time": "2023-01-26T15:27:05.673Z"
   },
   {
    "duration": 36,
    "start_time": "2023-01-26T15:27:05.779Z"
   },
   {
    "duration": 43,
    "start_time": "2023-01-26T15:27:05.819Z"
   },
   {
    "duration": 85,
    "start_time": "2023-01-26T15:27:05.864Z"
   },
   {
    "duration": 1485,
    "start_time": "2023-01-26T15:43:50.549Z"
   },
   {
    "duration": 610,
    "start_time": "2023-01-26T15:47:31.295Z"
   },
   {
    "duration": 464,
    "start_time": "2023-01-26T15:47:45.541Z"
   },
   {
    "duration": 463,
    "start_time": "2023-01-26T15:47:51.148Z"
   },
   {
    "duration": 461,
    "start_time": "2023-01-26T16:05:22.040Z"
   },
   {
    "duration": 365,
    "start_time": "2023-01-26T16:05:31.439Z"
   },
   {
    "duration": 760,
    "start_time": "2023-01-26T16:05:44.447Z"
   },
   {
    "duration": 354,
    "start_time": "2023-01-26T16:05:57.454Z"
   },
   {
    "duration": 1591,
    "start_time": "2023-01-26T16:07:35.108Z"
   },
   {
    "duration": 16,
    "start_time": "2023-01-26T16:25:18.131Z"
   },
   {
    "duration": 33,
    "start_time": "2023-01-26T16:25:24.892Z"
   },
   {
    "duration": 3,
    "start_time": "2023-01-26T16:26:12.631Z"
   },
   {
    "duration": 70,
    "start_time": "2023-01-26T16:26:12.636Z"
   },
   {
    "duration": 24,
    "start_time": "2023-01-26T16:26:12.709Z"
   },
   {
    "duration": 9,
    "start_time": "2023-01-26T16:26:12.734Z"
   },
   {
    "duration": 1756,
    "start_time": "2023-01-26T16:26:12.744Z"
   },
   {
    "duration": 19,
    "start_time": "2023-01-26T16:26:14.503Z"
   },
   {
    "duration": 23,
    "start_time": "2023-01-26T16:26:55.072Z"
   },
   {
    "duration": 542,
    "start_time": "2023-01-26T16:29:16.087Z"
   },
   {
    "duration": 413,
    "start_time": "2023-01-26T16:30:44.605Z"
   },
   {
    "duration": 536,
    "start_time": "2023-01-26T16:34:10.480Z"
   },
   {
    "duration": 3,
    "start_time": "2023-01-26T16:34:31.960Z"
   },
   {
    "duration": 2,
    "start_time": "2023-01-26T16:34:34.581Z"
   },
   {
    "duration": 61,
    "start_time": "2023-01-26T16:34:34.585Z"
   },
   {
    "duration": 19,
    "start_time": "2023-01-26T16:34:34.648Z"
   },
   {
    "duration": 14,
    "start_time": "2023-01-26T16:34:34.669Z"
   },
   {
    "duration": 2614,
    "start_time": "2023-01-26T16:34:34.684Z"
   },
   {
    "duration": 110,
    "start_time": "2023-01-26T16:34:37.301Z"
   },
   {
    "duration": 900,
    "start_time": "2023-01-26T16:34:37.414Z"
   },
   {
    "duration": 2339,
    "start_time": "2023-01-26T16:36:02.666Z"
   },
   {
    "duration": 296,
    "start_time": "2023-01-26T16:36:10.804Z"
   },
   {
    "duration": 436,
    "start_time": "2023-01-26T16:36:25.371Z"
   },
   {
    "duration": 4,
    "start_time": "2023-01-26T16:36:46.283Z"
   },
   {
    "duration": 2,
    "start_time": "2023-01-26T16:36:49.534Z"
   },
   {
    "duration": 58,
    "start_time": "2023-01-26T16:36:49.538Z"
   },
   {
    "duration": 19,
    "start_time": "2023-01-26T16:36:49.597Z"
   },
   {
    "duration": 9,
    "start_time": "2023-01-26T16:36:49.617Z"
   },
   {
    "duration": 574,
    "start_time": "2023-01-26T16:36:49.628Z"
   },
   {
    "duration": 105,
    "start_time": "2023-01-26T16:36:50.206Z"
   },
   {
    "duration": 195,
    "start_time": "2023-01-26T16:36:50.313Z"
   },
   {
    "duration": 1120,
    "start_time": "2023-01-29T14:07:46.058Z"
   },
   {
    "duration": 108,
    "start_time": "2023-01-29T14:07:47.180Z"
   },
   {
    "duration": 29,
    "start_time": "2023-01-29T14:07:47.289Z"
   },
   {
    "duration": 13,
    "start_time": "2023-01-29T14:07:47.320Z"
   },
   {
    "duration": 423,
    "start_time": "2023-01-29T14:07:47.336Z"
   },
   {
    "duration": 106,
    "start_time": "2023-01-29T14:07:47.761Z"
   },
   {
    "duration": 191,
    "start_time": "2023-01-29T14:07:47.869Z"
   },
   {
    "duration": 809,
    "start_time": "2023-01-29T14:20:27.487Z"
   },
   {
    "duration": 26642,
    "start_time": "2023-01-29T14:26:26.542Z"
   },
   {
    "duration": 22578,
    "start_time": "2023-01-29T14:27:02.796Z"
   },
   {
    "duration": 27052,
    "start_time": "2023-01-29T14:27:54.375Z"
   },
   {
    "duration": 30887,
    "start_time": "2023-01-29T14:29:40.131Z"
   },
   {
    "duration": 30290,
    "start_time": "2023-01-29T14:35:22.206Z"
   },
   {
    "duration": 30578,
    "start_time": "2023-01-29T14:36:05.456Z"
   },
   {
    "duration": 556446,
    "start_time": "2023-01-29T14:46:08.714Z"
   },
   {
    "duration": 171,
    "start_time": "2023-01-29T15:03:28.472Z"
   },
   {
    "duration": 608636,
    "start_time": "2023-01-29T15:04:56.817Z"
   },
   {
    "duration": 33758,
    "start_time": "2023-01-29T15:32:27.798Z"
   },
   {
    "duration": 55321,
    "start_time": "2023-01-29T15:33:08.507Z"
   },
   {
    "duration": 529,
    "start_time": "2023-01-29T15:35:23.848Z"
   },
   {
    "duration": 580,
    "start_time": "2023-01-29T15:36:33.680Z"
   },
   {
    "duration": 635,
    "start_time": "2023-01-29T15:36:50.389Z"
   },
   {
    "duration": 4,
    "start_time": "2023-01-29T15:58:28.816Z"
   },
   {
    "duration": 553,
    "start_time": "2023-01-29T15:59:24.629Z"
   },
   {
    "duration": 559,
    "start_time": "2023-01-29T15:59:43.718Z"
   },
   {
    "duration": 789,
    "start_time": "2023-01-29T16:01:24.308Z"
   },
   {
    "duration": 751,
    "start_time": "2023-01-29T16:01:39.586Z"
   },
   {
    "duration": 1177,
    "start_time": "2023-01-29T16:08:55.042Z"
   },
   {
    "duration": 73,
    "start_time": "2023-01-29T16:08:56.221Z"
   },
   {
    "duration": 30,
    "start_time": "2023-01-29T16:08:56.296Z"
   },
   {
    "duration": 32,
    "start_time": "2023-01-29T16:08:56.327Z"
   },
   {
    "duration": 998,
    "start_time": "2023-01-29T16:08:56.368Z"
   },
   {
    "duration": 111,
    "start_time": "2023-01-29T16:08:57.369Z"
   },
   {
    "duration": 484,
    "start_time": "2023-01-29T16:08:57.482Z"
   },
   {
    "duration": 900,
    "start_time": "2023-01-29T16:08:57.967Z"
   },
   {
    "duration": 56983,
    "start_time": "2023-01-29T16:08:58.875Z"
   },
   {
    "duration": 1110,
    "start_time": "2023-01-29T16:21:56.413Z"
   },
   {
    "duration": 78,
    "start_time": "2023-01-29T16:21:57.525Z"
   },
   {
    "duration": 31,
    "start_time": "2023-01-29T16:21:57.607Z"
   },
   {
    "duration": 32,
    "start_time": "2023-01-29T16:21:57.640Z"
   },
   {
    "duration": 1910,
    "start_time": "2023-01-29T16:21:57.678Z"
   },
   {
    "duration": 103,
    "start_time": "2023-01-29T16:21:59.656Z"
   },
   {
    "duration": 709,
    "start_time": "2023-01-29T16:21:59.762Z"
   },
   {
    "duration": 883,
    "start_time": "2023-01-29T16:22:00.473Z"
   },
   {
    "duration": 58763,
    "start_time": "2023-01-29T16:22:01.361Z"
   },
   {
    "duration": 856938,
    "start_time": "2023-01-29T16:23:00.126Z"
   },
   {
    "duration": 1007141,
    "start_time": "2023-01-29T16:37:17.068Z"
   },
   {
    "duration": 714,
    "start_time": "2023-01-29T16:54:04.257Z"
   },
   {
    "duration": 385,
    "start_time": "2023-01-29T17:01:33.910Z"
   },
   {
    "duration": 732,
    "start_time": "2023-01-29T17:01:41.795Z"
   },
   {
    "duration": 562,
    "start_time": "2023-01-29T17:06:02.643Z"
   },
   {
    "duration": 4,
    "start_time": "2023-01-29T17:07:03.524Z"
   },
   {
    "duration": 586,
    "start_time": "2023-01-29T17:08:02.043Z"
   },
   {
    "duration": 593,
    "start_time": "2023-01-29T17:09:20.375Z"
   },
   {
    "duration": 4,
    "start_time": "2023-01-29T17:10:38.670Z"
   },
   {
    "duration": 801,
    "start_time": "2023-01-29T17:13:46.207Z"
   },
   {
    "duration": 975,
    "start_time": "2023-01-29T17:16:05.805Z"
   },
   {
    "duration": 1858,
    "start_time": "2023-01-30T08:51:17.426Z"
   },
   {
    "duration": 103,
    "start_time": "2023-01-30T08:51:19.287Z"
   },
   {
    "duration": 30,
    "start_time": "2023-01-30T08:51:19.392Z"
   },
   {
    "duration": 15,
    "start_time": "2023-01-30T08:51:19.424Z"
   },
   {
    "duration": 6,
    "start_time": "2023-01-30T08:51:19.442Z"
   },
   {
    "duration": 5,
    "start_time": "2023-01-30T08:51:38.022Z"
   },
   {
    "duration": 4,
    "start_time": "2023-01-30T08:58:47.054Z"
   },
   {
    "duration": 59,
    "start_time": "2023-01-30T08:58:47.059Z"
   },
   {
    "duration": 21,
    "start_time": "2023-01-30T08:58:47.120Z"
   },
   {
    "duration": 13,
    "start_time": "2023-01-30T08:58:47.143Z"
   },
   {
    "duration": 5,
    "start_time": "2023-01-30T08:58:47.158Z"
   },
   {
    "duration": 639,
    "start_time": "2023-01-30T08:58:47.165Z"
   },
   {
    "duration": 103,
    "start_time": "2023-01-30T08:58:47.806Z"
   },
   {
    "duration": 292,
    "start_time": "2023-01-30T08:58:47.912Z"
   },
   {
    "duration": 856,
    "start_time": "2023-01-30T08:58:48.207Z"
   },
   {
    "duration": 55402,
    "start_time": "2023-01-30T08:58:49.065Z"
   },
   {
    "duration": 454934,
    "start_time": "2023-01-30T08:59:44.469Z"
   },
   {
    "duration": 511052,
    "start_time": "2023-01-30T09:07:19.406Z"
   },
   {
    "duration": 789,
    "start_time": "2023-01-30T09:15:50.460Z"
   },
   {
    "duration": 1590,
    "start_time": "2023-01-30T09:24:15.780Z"
   },
   {
    "duration": 104,
    "start_time": "2023-01-30T09:28:16.891Z"
   },
   {
    "duration": 2350,
    "start_time": "2023-01-30T16:14:54.477Z"
   },
   {
    "duration": 182,
    "start_time": "2023-01-30T16:16:47.877Z"
   },
   {
    "duration": 249,
    "start_time": "2023-01-30T16:16:53.461Z"
   },
   {
    "duration": 40,
    "start_time": "2023-01-30T16:16:57.930Z"
   },
   {
    "duration": 22,
    "start_time": "2023-01-30T16:18:28.201Z"
   },
   {
    "duration": 6,
    "start_time": "2023-01-30T16:18:40.722Z"
   },
   {
    "duration": 86,
    "start_time": "2023-01-30T16:18:40.731Z"
   },
   {
    "duration": 16,
    "start_time": "2023-01-30T16:18:40.819Z"
   },
   {
    "duration": 0,
    "start_time": "2023-01-30T16:18:40.838Z"
   },
   {
    "duration": 0,
    "start_time": "2023-01-30T16:18:40.839Z"
   },
   {
    "duration": 0,
    "start_time": "2023-01-30T16:18:40.841Z"
   },
   {
    "duration": 0,
    "start_time": "2023-01-30T16:18:40.842Z"
   },
   {
    "duration": 0,
    "start_time": "2023-01-30T16:18:40.848Z"
   },
   {
    "duration": 0,
    "start_time": "2023-01-30T16:18:40.850Z"
   },
   {
    "duration": 0,
    "start_time": "2023-01-30T16:18:40.851Z"
   },
   {
    "duration": 0,
    "start_time": "2023-01-30T16:18:40.852Z"
   },
   {
    "duration": 0,
    "start_time": "2023-01-30T16:18:40.854Z"
   },
   {
    "duration": 0,
    "start_time": "2023-01-30T16:18:40.855Z"
   },
   {
    "duration": 17,
    "start_time": "2023-01-30T16:19:17.397Z"
   },
   {
    "duration": 5,
    "start_time": "2023-01-30T16:19:21.663Z"
   },
   {
    "duration": 89,
    "start_time": "2023-01-30T16:19:21.670Z"
   },
   {
    "duration": 16,
    "start_time": "2023-01-30T16:19:21.761Z"
   },
   {
    "duration": 0,
    "start_time": "2023-01-30T16:19:21.779Z"
   },
   {
    "duration": 0,
    "start_time": "2023-01-30T16:19:21.780Z"
   },
   {
    "duration": 0,
    "start_time": "2023-01-30T16:19:21.781Z"
   },
   {
    "duration": 0,
    "start_time": "2023-01-30T16:19:21.782Z"
   },
   {
    "duration": 0,
    "start_time": "2023-01-30T16:19:21.783Z"
   },
   {
    "duration": 0,
    "start_time": "2023-01-30T16:19:21.784Z"
   },
   {
    "duration": 0,
    "start_time": "2023-01-30T16:19:21.786Z"
   },
   {
    "duration": 0,
    "start_time": "2023-01-30T16:19:21.788Z"
   },
   {
    "duration": 0,
    "start_time": "2023-01-30T16:19:21.789Z"
   },
   {
    "duration": 0,
    "start_time": "2023-01-30T16:19:21.790Z"
   },
   {
    "duration": 52,
    "start_time": "2023-01-30T16:21:06.528Z"
   },
   {
    "duration": 6,
    "start_time": "2023-01-30T16:21:22.284Z"
   },
   {
    "duration": 132,
    "start_time": "2023-01-30T16:21:22.297Z"
   },
   {
    "duration": 44,
    "start_time": "2023-01-30T16:21:22.434Z"
   },
   {
    "duration": 23,
    "start_time": "2023-01-30T16:21:22.486Z"
   },
   {
    "duration": 20,
    "start_time": "2023-01-30T16:21:22.516Z"
   },
   {
    "duration": 1476,
    "start_time": "2023-01-30T16:21:22.541Z"
   },
   {
    "duration": 39,
    "start_time": "2023-01-30T16:21:24.020Z"
   },
   {
    "duration": 549,
    "start_time": "2023-01-30T16:21:24.061Z"
   },
   {
    "duration": 1172,
    "start_time": "2023-01-30T16:21:24.618Z"
   },
   {
    "duration": 2911,
    "start_time": "2023-01-30T16:22:51.048Z"
   },
   {
    "duration": 222,
    "start_time": "2023-01-30T16:22:53.973Z"
   },
   {
    "duration": 76,
    "start_time": "2023-01-30T16:22:57.279Z"
   },
   {
    "duration": 403,
    "start_time": "2023-01-30T16:23:28.824Z"
   },
   {
    "duration": 95,
    "start_time": "2023-01-30T16:23:47.724Z"
   },
   {
    "duration": 19,
    "start_time": "2023-01-30T16:24:06.126Z"
   },
   {
    "duration": 315,
    "start_time": "2023-01-30T16:24:06.148Z"
   },
   {
    "duration": 444,
    "start_time": "2023-01-30T16:24:06.475Z"
   },
   {
    "duration": 410,
    "start_time": "2023-01-30T16:24:06.921Z"
   },
   {
    "duration": 18,
    "start_time": "2023-01-30T16:24:07.337Z"
   },
   {
    "duration": 665,
    "start_time": "2023-01-30T16:24:07.365Z"
   },
   {
    "duration": 0,
    "start_time": "2023-01-30T16:24:08.040Z"
   },
   {
    "duration": 0,
    "start_time": "2023-01-30T16:24:08.050Z"
   },
   {
    "duration": 0,
    "start_time": "2023-01-30T16:24:08.056Z"
   },
   {
    "duration": 0,
    "start_time": "2023-01-30T16:24:08.066Z"
   },
   {
    "duration": 0,
    "start_time": "2023-01-30T16:24:08.075Z"
   },
   {
    "duration": 0,
    "start_time": "2023-01-30T16:24:08.087Z"
   },
   {
    "duration": 0,
    "start_time": "2023-01-30T16:24:08.088Z"
   },
   {
    "duration": 523,
    "start_time": "2023-01-30T16:25:12.204Z"
   },
   {
    "duration": 120,
    "start_time": "2023-01-30T16:26:08.071Z"
   },
   {
    "duration": 51,
    "start_time": "2023-01-30T16:26:29.244Z"
   },
   {
    "duration": 85,
    "start_time": "2023-01-30T16:26:37.817Z"
   },
   {
    "duration": 67,
    "start_time": "2023-01-30T16:26:40.633Z"
   },
   {
    "duration": 15,
    "start_time": "2023-01-30T16:26:50.980Z"
   },
   {
    "duration": 389,
    "start_time": "2023-01-30T16:26:50.998Z"
   },
   {
    "duration": 89,
    "start_time": "2023-01-30T16:26:51.394Z"
   },
   {
    "duration": 195,
    "start_time": "2023-01-30T16:26:51.493Z"
   },
   {
    "duration": 223,
    "start_time": "2023-01-30T16:26:51.694Z"
   },
   {
    "duration": 1869,
    "start_time": "2023-01-30T16:26:51.922Z"
   },
   {
    "duration": 133,
    "start_time": "2023-01-30T16:26:53.802Z"
   },
   {
    "duration": 1399,
    "start_time": "2023-01-30T16:26:53.954Z"
   },
   {
    "duration": 1538,
    "start_time": "2023-01-30T16:26:55.381Z"
   },
   {
    "duration": 92382,
    "start_time": "2023-01-30T16:26:56.941Z"
   },
   {
    "duration": 1056258,
    "start_time": "2023-01-30T16:28:29.330Z"
   },
   {
    "duration": 1661,
    "start_time": "2023-01-30T16:55:56.150Z"
   },
   {
    "duration": 87,
    "start_time": "2023-01-30T16:55:57.814Z"
   },
   {
    "duration": 28,
    "start_time": "2023-01-30T16:55:57.903Z"
   },
   {
    "duration": 12,
    "start_time": "2023-01-30T16:55:57.948Z"
   },
   {
    "duration": 16,
    "start_time": "2023-01-30T16:55:57.962Z"
   },
   {
    "duration": 594,
    "start_time": "2023-01-30T16:55:57.980Z"
   },
   {
    "duration": 90,
    "start_time": "2023-01-30T16:55:58.578Z"
   },
   {
    "duration": 578,
    "start_time": "2023-01-30T16:55:58.670Z"
   },
   {
    "duration": 839,
    "start_time": "2023-01-30T16:55:59.251Z"
   },
   {
    "duration": 1742,
    "start_time": "2023-01-30T16:56:19.406Z"
   },
   {
    "duration": 103,
    "start_time": "2023-01-30T16:56:21.161Z"
   },
   {
    "duration": 38,
    "start_time": "2023-01-30T16:56:21.268Z"
   },
   {
    "duration": 28,
    "start_time": "2023-01-30T16:56:21.308Z"
   },
   {
    "duration": 16,
    "start_time": "2023-01-30T16:56:21.342Z"
   },
   {
    "duration": 1726,
    "start_time": "2023-01-30T16:56:21.364Z"
   },
   {
    "duration": 74,
    "start_time": "2023-01-30T16:56:23.092Z"
   },
   {
    "duration": 912,
    "start_time": "2023-01-30T16:56:23.168Z"
   },
   {
    "duration": 847,
    "start_time": "2023-01-30T16:56:24.085Z"
   },
   {
    "duration": 61152,
    "start_time": "2023-01-30T16:56:24.933Z"
   },
   {
    "duration": 957759,
    "start_time": "2023-01-30T16:57:26.089Z"
   },
   {
    "duration": 1674,
    "start_time": "2023-01-30T17:24:11.214Z"
   },
   {
    "duration": 74,
    "start_time": "2023-01-30T17:24:12.891Z"
   },
   {
    "duration": 149,
    "start_time": "2023-01-30T17:24:12.967Z"
   },
   {
    "duration": 0,
    "start_time": "2023-01-30T17:24:13.119Z"
   },
   {
    "duration": 0,
    "start_time": "2023-01-30T17:24:13.120Z"
   },
   {
    "duration": 0,
    "start_time": "2023-01-30T17:24:13.121Z"
   },
   {
    "duration": 0,
    "start_time": "2023-01-30T17:24:13.122Z"
   },
   {
    "duration": 0,
    "start_time": "2023-01-30T17:24:13.123Z"
   },
   {
    "duration": 0,
    "start_time": "2023-01-30T17:24:13.123Z"
   },
   {
    "duration": 0,
    "start_time": "2023-01-30T17:24:13.124Z"
   },
   {
    "duration": 0,
    "start_time": "2023-01-30T17:24:13.125Z"
   },
   {
    "duration": 0,
    "start_time": "2023-01-30T17:24:13.126Z"
   },
   {
    "duration": 0,
    "start_time": "2023-01-30T17:24:13.128Z"
   },
   {
    "duration": 13,
    "start_time": "2023-01-30T17:24:23.756Z"
   },
   {
    "duration": 4,
    "start_time": "2023-01-30T17:24:28.254Z"
   },
   {
    "duration": 86,
    "start_time": "2023-01-30T17:24:28.260Z"
   },
   {
    "duration": 16,
    "start_time": "2023-01-30T17:24:28.348Z"
   },
   {
    "duration": 0,
    "start_time": "2023-01-30T17:24:28.366Z"
   },
   {
    "duration": 0,
    "start_time": "2023-01-30T17:24:28.368Z"
   },
   {
    "duration": 0,
    "start_time": "2023-01-30T17:24:28.369Z"
   },
   {
    "duration": 0,
    "start_time": "2023-01-30T17:24:28.375Z"
   },
   {
    "duration": 0,
    "start_time": "2023-01-30T17:24:28.376Z"
   },
   {
    "duration": 0,
    "start_time": "2023-01-30T17:24:28.378Z"
   },
   {
    "duration": 0,
    "start_time": "2023-01-30T17:24:28.380Z"
   },
   {
    "duration": 1,
    "start_time": "2023-01-30T17:24:28.381Z"
   },
   {
    "duration": 0,
    "start_time": "2023-01-30T17:24:28.382Z"
   },
   {
    "duration": 0,
    "start_time": "2023-01-30T17:24:28.383Z"
   },
   {
    "duration": 28,
    "start_time": "2023-01-30T17:24:42.513Z"
   },
   {
    "duration": 6,
    "start_time": "2023-01-30T17:24:47.192Z"
   },
   {
    "duration": 124,
    "start_time": "2023-01-30T17:24:47.203Z"
   },
   {
    "duration": 24,
    "start_time": "2023-01-30T17:24:47.332Z"
   },
   {
    "duration": 125,
    "start_time": "2023-01-30T17:24:47.362Z"
   },
   {
    "duration": 0,
    "start_time": "2023-01-30T17:24:47.495Z"
   },
   {
    "duration": 0,
    "start_time": "2023-01-30T17:24:47.500Z"
   },
   {
    "duration": 0,
    "start_time": "2023-01-30T17:24:47.510Z"
   },
   {
    "duration": 0,
    "start_time": "2023-01-30T17:24:47.523Z"
   },
   {
    "duration": 0,
    "start_time": "2023-01-30T17:24:47.527Z"
   },
   {
    "duration": 0,
    "start_time": "2023-01-30T17:24:47.533Z"
   },
   {
    "duration": 0,
    "start_time": "2023-01-30T17:24:47.534Z"
   },
   {
    "duration": 0,
    "start_time": "2023-01-30T17:24:47.535Z"
   },
   {
    "duration": 0,
    "start_time": "2023-01-30T17:24:47.537Z"
   },
   {
    "duration": 8522,
    "start_time": "2023-01-30T17:25:37.024Z"
   },
   {
    "duration": 3020,
    "start_time": "2023-01-30T17:25:51.636Z"
   },
   {
    "duration": 1748,
    "start_time": "2023-01-30T17:25:54.662Z"
   },
   {
    "duration": 93,
    "start_time": "2023-01-30T17:25:56.413Z"
   },
   {
    "duration": 1136,
    "start_time": "2023-01-30T17:25:56.510Z"
   },
   {
    "duration": 231,
    "start_time": "2023-01-30T17:25:57.648Z"
   },
   {
    "duration": 0,
    "start_time": "2023-01-30T17:25:57.881Z"
   },
   {
    "duration": 0,
    "start_time": "2023-01-30T17:25:57.883Z"
   },
   {
    "duration": 0,
    "start_time": "2023-01-30T17:25:57.884Z"
   },
   {
    "duration": 0,
    "start_time": "2023-01-30T17:25:57.886Z"
   },
   {
    "duration": 0,
    "start_time": "2023-01-30T17:25:57.888Z"
   },
   {
    "duration": 0,
    "start_time": "2023-01-30T17:25:57.889Z"
   },
   {
    "duration": 0,
    "start_time": "2023-01-30T17:25:57.891Z"
   },
   {
    "duration": 0,
    "start_time": "2023-01-30T17:25:57.892Z"
   },
   {
    "duration": 0,
    "start_time": "2023-01-30T17:25:57.894Z"
   },
   {
    "duration": 66,
    "start_time": "2023-01-30T17:28:24.818Z"
   },
   {
    "duration": 64,
    "start_time": "2023-01-30T17:28:50.155Z"
   },
   {
    "duration": 59,
    "start_time": "2023-01-30T17:30:40.727Z"
   },
   {
    "duration": 8,
    "start_time": "2023-01-30T17:30:44.464Z"
   },
   {
    "duration": 74,
    "start_time": "2023-01-30T17:31:41.837Z"
   },
   {
    "duration": 91,
    "start_time": "2023-01-30T17:31:59.074Z"
   },
   {
    "duration": 2627,
    "start_time": "2023-01-30T17:32:41.789Z"
   },
   {
    "duration": 5,
    "start_time": "2023-01-30T17:32:44.419Z"
   },
   {
    "duration": 85,
    "start_time": "2023-01-30T17:32:44.425Z"
   },
   {
    "duration": 19,
    "start_time": "2023-01-30T17:32:44.513Z"
   },
   {
    "duration": 117,
    "start_time": "2023-01-30T17:32:44.534Z"
   },
   {
    "duration": 9,
    "start_time": "2023-01-30T17:32:44.664Z"
   },
   {
    "duration": 43,
    "start_time": "2023-01-30T17:32:44.674Z"
   },
   {
    "duration": 0,
    "start_time": "2023-01-30T17:32:44.719Z"
   },
   {
    "duration": 0,
    "start_time": "2023-01-30T17:32:44.721Z"
   },
   {
    "duration": 0,
    "start_time": "2023-01-30T17:32:44.722Z"
   },
   {
    "duration": 0,
    "start_time": "2023-01-30T17:32:44.724Z"
   },
   {
    "duration": 0,
    "start_time": "2023-01-30T17:32:44.725Z"
   },
   {
    "duration": 0,
    "start_time": "2023-01-30T17:32:44.726Z"
   },
   {
    "duration": 0,
    "start_time": "2023-01-30T17:32:44.727Z"
   },
   {
    "duration": 94,
    "start_time": "2023-01-30T17:33:56.533Z"
   },
   {
    "duration": 59,
    "start_time": "2023-01-30T17:35:31.493Z"
   },
   {
    "duration": 241,
    "start_time": "2023-01-30T17:38:55.402Z"
   },
   {
    "duration": 65,
    "start_time": "2023-01-30T17:39:38.526Z"
   },
   {
    "duration": 57,
    "start_time": "2023-01-30T17:40:14.086Z"
   },
   {
    "duration": 30,
    "start_time": "2023-01-30T17:40:36.243Z"
   },
   {
    "duration": 33,
    "start_time": "2023-01-30T17:40:50.281Z"
   },
   {
    "duration": 63,
    "start_time": "2023-01-30T17:41:09.446Z"
   },
   {
    "duration": 74,
    "start_time": "2023-01-30T17:41:15.125Z"
   },
   {
    "duration": 4,
    "start_time": "2023-01-30T17:41:15.285Z"
   },
   {
    "duration": 47,
    "start_time": "2023-01-30T17:41:45.366Z"
   },
   {
    "duration": 2273,
    "start_time": "2023-01-30T17:42:15.418Z"
   },
   {
    "duration": 5,
    "start_time": "2023-01-30T17:42:17.694Z"
   },
   {
    "duration": 82,
    "start_time": "2023-01-30T17:42:17.701Z"
   },
   {
    "duration": 20,
    "start_time": "2023-01-30T17:42:17.786Z"
   },
   {
    "duration": 63,
    "start_time": "2023-01-30T17:42:17.808Z"
   },
   {
    "duration": 0,
    "start_time": "2023-01-30T17:42:17.873Z"
   },
   {
    "duration": 0,
    "start_time": "2023-01-30T17:42:17.875Z"
   },
   {
    "duration": 0,
    "start_time": "2023-01-30T17:42:17.876Z"
   },
   {
    "duration": 0,
    "start_time": "2023-01-30T17:42:17.878Z"
   },
   {
    "duration": 0,
    "start_time": "2023-01-30T17:42:17.879Z"
   },
   {
    "duration": 0,
    "start_time": "2023-01-30T17:42:17.880Z"
   },
   {
    "duration": 0,
    "start_time": "2023-01-30T17:42:17.881Z"
   },
   {
    "duration": 0,
    "start_time": "2023-01-30T17:42:17.883Z"
   },
   {
    "duration": 0,
    "start_time": "2023-01-30T17:42:17.886Z"
   },
   {
    "duration": 33,
    "start_time": "2023-01-30T17:42:51.441Z"
   },
   {
    "duration": 51,
    "start_time": "2023-01-30T17:42:59.775Z"
   },
   {
    "duration": 41,
    "start_time": "2023-01-30T17:43:14.722Z"
   },
   {
    "duration": 41,
    "start_time": "2023-01-30T17:43:43.705Z"
   },
   {
    "duration": 76,
    "start_time": "2023-01-30T17:44:27.241Z"
   },
   {
    "duration": 296,
    "start_time": "2023-01-30T17:45:54.973Z"
   },
   {
    "duration": 13,
    "start_time": "2023-01-30T17:52:04.250Z"
   },
   {
    "duration": 4,
    "start_time": "2023-01-30T17:52:07.683Z"
   },
   {
    "duration": 18,
    "start_time": "2023-01-30T17:52:31.134Z"
   },
   {
    "duration": 2544,
    "start_time": "2023-01-30T17:52:34.829Z"
   },
   {
    "duration": 14,
    "start_time": "2023-01-30T17:52:37.375Z"
   },
   {
    "duration": 86,
    "start_time": "2023-01-30T17:52:37.391Z"
   },
   {
    "duration": 24,
    "start_time": "2023-01-30T17:52:37.482Z"
   },
   {
    "duration": 9,
    "start_time": "2023-01-30T17:52:37.508Z"
   },
   {
    "duration": 10,
    "start_time": "2023-01-30T17:52:37.518Z"
   },
   {
    "duration": 38,
    "start_time": "2023-01-30T17:52:37.529Z"
   },
   {
    "duration": 0,
    "start_time": "2023-01-30T17:52:37.575Z"
   },
   {
    "duration": 0,
    "start_time": "2023-01-30T17:52:37.583Z"
   },
   {
    "duration": 0,
    "start_time": "2023-01-30T17:52:37.585Z"
   },
   {
    "duration": 0,
    "start_time": "2023-01-30T17:52:37.586Z"
   },
   {
    "duration": 0,
    "start_time": "2023-01-30T17:52:37.587Z"
   },
   {
    "duration": 0,
    "start_time": "2023-01-30T17:52:37.589Z"
   },
   {
    "duration": 0,
    "start_time": "2023-01-30T17:52:37.590Z"
   },
   {
    "duration": 12,
    "start_time": "2023-01-30T17:54:13.938Z"
   },
   {
    "duration": 3,
    "start_time": "2023-01-30T17:54:22.492Z"
   },
   {
    "duration": 12,
    "start_time": "2023-01-30T17:54:37.692Z"
   },
   {
    "duration": 2245,
    "start_time": "2023-01-30T17:54:40.416Z"
   },
   {
    "duration": 5,
    "start_time": "2023-01-30T17:54:42.663Z"
   },
   {
    "duration": 65,
    "start_time": "2023-01-30T17:54:42.670Z"
   },
   {
    "duration": 31,
    "start_time": "2023-01-30T17:54:42.737Z"
   },
   {
    "duration": 13,
    "start_time": "2023-01-30T17:54:42.770Z"
   },
   {
    "duration": 12,
    "start_time": "2023-01-30T17:54:42.785Z"
   },
   {
    "duration": 571,
    "start_time": "2023-01-30T17:54:42.799Z"
   },
   {
    "duration": 111,
    "start_time": "2023-01-30T17:54:43.374Z"
   },
   {
    "duration": 974,
    "start_time": "2023-01-30T17:54:43.486Z"
   },
   {
    "duration": 674,
    "start_time": "2023-01-30T17:54:44.467Z"
   },
   {
    "duration": 2472,
    "start_time": "2023-01-30T17:55:15.077Z"
   },
   {
    "duration": 1337,
    "start_time": "2023-01-30T17:55:17.552Z"
   },
   {
    "duration": 67,
    "start_time": "2023-01-30T17:55:18.890Z"
   },
   {
    "duration": 31,
    "start_time": "2023-01-30T17:55:18.960Z"
   },
   {
    "duration": 11,
    "start_time": "2023-01-30T17:55:18.993Z"
   },
   {
    "duration": 6,
    "start_time": "2023-01-30T17:55:19.006Z"
   },
   {
    "duration": 549,
    "start_time": "2023-01-30T17:55:19.013Z"
   },
   {
    "duration": 98,
    "start_time": "2023-01-30T17:55:19.564Z"
   },
   {
    "duration": 607,
    "start_time": "2023-01-30T17:55:19.664Z"
   },
   {
    "duration": 677,
    "start_time": "2023-01-30T17:55:20.358Z"
   },
   {
    "duration": 47888,
    "start_time": "2023-01-30T17:55:21.036Z"
   },
   {
    "duration": 2151,
    "start_time": "2023-01-30T18:07:03.506Z"
   },
   {
    "duration": 1256,
    "start_time": "2023-01-30T18:07:05.660Z"
   },
   {
    "duration": 77,
    "start_time": "2023-01-30T18:07:06.918Z"
   },
   {
    "duration": 20,
    "start_time": "2023-01-30T18:07:06.998Z"
   },
   {
    "duration": 9,
    "start_time": "2023-01-30T18:07:07.020Z"
   },
   {
    "duration": 4,
    "start_time": "2023-01-30T18:07:07.049Z"
   },
   {
    "duration": 138,
    "start_time": "2023-01-30T18:07:07.056Z"
   },
   {
    "duration": 0,
    "start_time": "2023-01-30T18:07:07.196Z"
   },
   {
    "duration": 0,
    "start_time": "2023-01-30T18:07:07.198Z"
   },
   {
    "duration": 0,
    "start_time": "2023-01-30T18:07:07.199Z"
   },
   {
    "duration": 0,
    "start_time": "2023-01-30T18:07:07.201Z"
   },
   {
    "duration": 0,
    "start_time": "2023-01-30T18:07:07.202Z"
   },
   {
    "duration": 0,
    "start_time": "2023-01-30T18:07:07.203Z"
   },
   {
    "duration": 0,
    "start_time": "2023-01-30T18:07:07.204Z"
   },
   {
    "duration": 0,
    "start_time": "2023-01-30T18:07:07.205Z"
   },
   {
    "duration": 32,
    "start_time": "2023-01-30T18:09:03.852Z"
   },
   {
    "duration": 48,
    "start_time": "2023-01-30T18:11:12.453Z"
   },
   {
    "duration": 73,
    "start_time": "2023-01-30T18:11:31.336Z"
   },
   {
    "duration": 441,
    "start_time": "2023-01-30T18:13:11.613Z"
   },
   {
    "duration": 100,
    "start_time": "2023-01-30T18:26:24.515Z"
   },
   {
    "duration": 74,
    "start_time": "2023-01-30T18:27:22.508Z"
   },
   {
    "duration": 495,
    "start_time": "2023-01-30T18:27:32.213Z"
   },
   {
    "duration": 592581,
    "start_time": "2023-01-30T18:34:10.013Z"
   },
   {
    "duration": 534274,
    "start_time": "2023-01-30T18:48:24.508Z"
   },
   {
    "duration": 548,
    "start_time": "2023-01-30T19:02:25.219Z"
   },
   {
    "duration": 2289,
    "start_time": "2023-01-30T19:20:28.584Z"
   },
   {
    "duration": 1684,
    "start_time": "2023-01-30T19:20:30.876Z"
   },
   {
    "duration": 196,
    "start_time": "2023-01-30T19:20:32.565Z"
   },
   {
    "duration": 28,
    "start_time": "2023-01-30T19:20:32.764Z"
   },
   {
    "duration": 16,
    "start_time": "2023-01-30T19:20:32.794Z"
   },
   {
    "duration": 6,
    "start_time": "2023-01-30T19:20:32.813Z"
   },
   {
    "duration": 84,
    "start_time": "2023-01-30T19:20:32.821Z"
   },
   {
    "duration": 154,
    "start_time": "2023-01-30T19:20:32.907Z"
   },
   {
    "duration": 589,
    "start_time": "2023-01-30T19:20:33.063Z"
   },
   {
    "duration": 516276,
    "start_time": "2023-01-30T19:20:33.654Z"
   },
   {
    "duration": 0,
    "start_time": "2023-01-30T19:29:09.933Z"
   },
   {
    "duration": 0,
    "start_time": "2023-01-30T19:29:09.934Z"
   },
   {
    "duration": 0,
    "start_time": "2023-01-30T19:29:09.936Z"
   },
   {
    "duration": 0,
    "start_time": "2023-01-30T19:29:09.937Z"
   },
   {
    "duration": 0,
    "start_time": "2023-01-30T19:29:09.949Z"
   },
   {
    "duration": 0,
    "start_time": "2023-01-30T19:29:09.951Z"
   },
   {
    "duration": 0,
    "start_time": "2023-01-30T19:29:09.952Z"
   },
   {
    "duration": 2589,
    "start_time": "2023-01-30T19:36:11.150Z"
   },
   {
    "duration": 1224,
    "start_time": "2023-01-30T19:36:13.742Z"
   },
   {
    "duration": 74,
    "start_time": "2023-01-30T19:36:14.970Z"
   },
   {
    "duration": 34,
    "start_time": "2023-01-30T19:36:15.047Z"
   },
   {
    "duration": 12,
    "start_time": "2023-01-30T19:36:15.082Z"
   },
   {
    "duration": 26,
    "start_time": "2023-01-30T19:36:15.096Z"
   },
   {
    "duration": 88,
    "start_time": "2023-01-30T19:36:15.124Z"
   },
   {
    "duration": 548,
    "start_time": "2023-01-30T19:36:15.214Z"
   },
   {
    "duration": 626,
    "start_time": "2023-01-30T19:36:15.764Z"
   },
   {
    "duration": 2286,
    "start_time": "2023-01-30T19:36:50.634Z"
   },
   {
    "duration": 1399,
    "start_time": "2023-01-30T19:36:52.923Z"
   },
   {
    "duration": 85,
    "start_time": "2023-01-30T19:36:54.324Z"
   },
   {
    "duration": 29,
    "start_time": "2023-01-30T19:36:54.412Z"
   },
   {
    "duration": 13,
    "start_time": "2023-01-30T19:36:54.449Z"
   },
   {
    "duration": 21,
    "start_time": "2023-01-30T19:36:54.464Z"
   },
   {
    "duration": 62,
    "start_time": "2023-01-30T19:36:54.487Z"
   },
   {
    "duration": 535,
    "start_time": "2023-01-30T19:36:54.550Z"
   },
   {
    "duration": 532,
    "start_time": "2023-01-30T19:36:55.087Z"
   },
   {
    "duration": 3852,
    "start_time": "2023-01-30T19:38:03.741Z"
   },
   {
    "duration": 2666,
    "start_time": "2023-01-30T19:38:07.596Z"
   },
   {
    "duration": 203,
    "start_time": "2023-01-30T19:38:10.264Z"
   },
   {
    "duration": 30,
    "start_time": "2023-01-30T19:38:10.469Z"
   },
   {
    "duration": 14,
    "start_time": "2023-01-30T19:38:10.501Z"
   },
   {
    "duration": 12,
    "start_time": "2023-01-30T19:38:10.517Z"
   },
   {
    "duration": 85,
    "start_time": "2023-01-30T19:38:10.531Z"
   },
   {
    "duration": 742,
    "start_time": "2023-01-30T19:38:10.619Z"
   },
   {
    "duration": 478,
    "start_time": "2023-01-30T19:38:11.363Z"
   },
   {
    "duration": 1213,
    "start_time": "2023-01-30T19:40:33.246Z"
   },
   {
    "duration": 71,
    "start_time": "2023-01-30T19:40:36.254Z"
   },
   {
    "duration": 21,
    "start_time": "2023-01-30T19:40:42.871Z"
   },
   {
    "duration": 9,
    "start_time": "2023-01-30T19:40:50.672Z"
   },
   {
    "duration": 4,
    "start_time": "2023-01-30T19:40:55.077Z"
   },
   {
    "duration": 54,
    "start_time": "2023-01-30T19:40:59.092Z"
   },
   {
    "duration": 750,
    "start_time": "2023-01-30T19:41:17.950Z"
   },
   {
    "duration": 187,
    "start_time": "2023-01-30T19:41:44.476Z"
   },
   {
    "duration": 259,
    "start_time": "2023-01-30T19:41:47.389Z"
   },
   {
    "duration": 299,
    "start_time": "2023-01-30T19:42:00.152Z"
   },
   {
    "duration": 467,
    "start_time": "2023-01-30T19:42:11.784Z"
   },
   {
    "duration": 412,
    "start_time": "2023-01-30T19:42:18.241Z"
   },
   {
    "duration": 624,
    "start_time": "2023-01-30T19:42:24.699Z"
   },
   {
    "duration": 967,
    "start_time": "2023-01-30T19:42:33.387Z"
   },
   {
    "duration": 518,
    "start_time": "2023-01-30T19:42:43.066Z"
   },
   {
    "duration": 418,
    "start_time": "2023-01-30T19:42:47.444Z"
   },
   {
    "duration": 889,
    "start_time": "2023-01-30T19:42:55.035Z"
   },
   {
    "duration": 2308,
    "start_time": "2023-01-30T19:43:18.359Z"
   },
   {
    "duration": 7,
    "start_time": "2023-01-30T19:43:20.670Z"
   },
   {
    "duration": 95,
    "start_time": "2023-01-30T19:43:20.678Z"
   },
   {
    "duration": 29,
    "start_time": "2023-01-30T19:43:20.776Z"
   },
   {
    "duration": 13,
    "start_time": "2023-01-30T19:43:20.806Z"
   },
   {
    "duration": 36,
    "start_time": "2023-01-30T19:43:20.821Z"
   },
   {
    "duration": 73,
    "start_time": "2023-01-30T19:43:20.860Z"
   },
   {
    "duration": 221,
    "start_time": "2023-01-30T19:43:20.935Z"
   },
   {
    "duration": 589,
    "start_time": "2023-01-30T19:43:21.160Z"
   },
   {
    "duration": 518021,
    "start_time": "2023-01-30T19:43:21.752Z"
   },
   {
    "duration": 428473,
    "start_time": "2023-01-30T19:51:59.775Z"
   },
   {
    "duration": 107,
    "start_time": "2023-01-30T19:59:08.251Z"
   },
   {
    "duration": 550,
    "start_time": "2023-01-30T19:59:08.360Z"
   },
   {
    "duration": 665710,
    "start_time": "2023-01-30T19:59:08.912Z"
   },
   {
    "duration": 490733,
    "start_time": "2023-01-30T20:10:14.624Z"
   },
   {
    "duration": 89,
    "start_time": "2023-01-30T20:18:25.364Z"
   },
   {
    "duration": 306006,
    "start_time": "2023-01-30T20:18:25.455Z"
   },
   {
    "duration": 817,
    "start_time": "2023-01-30T20:23:31.465Z"
   },
   {
    "duration": 49,
    "start_time": "2023-01-31T08:32:29.356Z"
   },
   {
    "duration": 7036,
    "start_time": "2023-01-31T08:32:38.321Z"
   },
   {
    "duration": 1454,
    "start_time": "2023-01-31T08:32:45.359Z"
   },
   {
    "duration": 194,
    "start_time": "2023-01-31T08:32:46.816Z"
   },
   {
    "duration": 31,
    "start_time": "2023-01-31T08:32:47.013Z"
   },
   {
    "duration": 13,
    "start_time": "2023-01-31T08:32:47.046Z"
   },
   {
    "duration": 51,
    "start_time": "2023-01-31T08:32:47.060Z"
   },
   {
    "duration": 75,
    "start_time": "2023-01-31T08:32:47.113Z"
   },
   {
    "duration": 212,
    "start_time": "2023-01-31T08:32:47.190Z"
   },
   {
    "duration": 519,
    "start_time": "2023-01-31T08:32:47.404Z"
   },
   {
    "duration": 505824,
    "start_time": "2023-01-31T08:32:47.925Z"
   },
   {
    "duration": 476864,
    "start_time": "2023-01-31T08:41:13.750Z"
   },
   {
    "duration": 94,
    "start_time": "2023-01-31T08:49:10.616Z"
   },
   {
    "duration": 555,
    "start_time": "2023-01-31T08:49:10.714Z"
   },
   {
    "duration": 704280,
    "start_time": "2023-01-31T08:49:11.271Z"
   },
   {
    "duration": 510550,
    "start_time": "2023-01-31T09:00:55.553Z"
   },
   {
    "duration": 92,
    "start_time": "2023-01-31T09:09:26.111Z"
   },
   {
    "duration": 265,
    "start_time": "2023-01-31T09:09:26.209Z"
   },
   {
    "duration": 452247,
    "start_time": "2023-01-31T09:09:26.476Z"
   },
   {
    "duration": 712,
    "start_time": "2023-01-31T09:16:58.809Z"
   },
   {
    "duration": 294401,
    "start_time": "2023-01-31T09:18:14.908Z"
   },
   {
    "duration": 466207,
    "start_time": "2023-01-31T09:26:39.707Z"
   },
   {
    "duration": 517246,
    "start_time": "2023-01-31T09:37:00.352Z"
   },
   {
    "duration": 405327,
    "start_time": "2023-01-31T09:47:08.889Z"
   },
   {
    "duration": 75,
    "start_time": "2023-01-31T10:00:43.106Z"
   },
   {
    "duration": 24,
    "start_time": "2023-01-31T10:00:52.186Z"
   },
   {
    "duration": 443,
    "start_time": "2023-01-31T10:01:11.564Z"
   },
   {
    "duration": 519961,
    "start_time": "2023-01-31T10:02:22.946Z"
   },
   {
    "duration": 425308,
    "start_time": "2023-01-31T10:18:48.997Z"
   },
   {
    "duration": 46,
    "start_time": "2023-01-31T10:37:59.585Z"
   },
   {
    "duration": 46,
    "start_time": "2023-01-31T10:38:03.415Z"
   },
   {
    "duration": 588,
    "start_time": "2023-01-31T10:39:34.177Z"
   },
   {
    "duration": 7,
    "start_time": "2023-01-31T10:45:00.872Z"
   },
   {
    "duration": 6,
    "start_time": "2023-01-31T10:45:48.981Z"
   },
   {
    "duration": 6,
    "start_time": "2023-01-31T10:47:09.737Z"
   },
   {
    "duration": 56,
    "start_time": "2023-01-31T10:52:54.639Z"
   },
   {
    "duration": 618,
    "start_time": "2023-01-31T10:53:01.949Z"
   },
   {
    "duration": 4,
    "start_time": "2023-01-31T10:56:49.409Z"
   },
   {
    "duration": 622,
    "start_time": "2023-01-31T10:56:57.445Z"
   },
   {
    "duration": 710,
    "start_time": "2023-01-31T10:57:13.592Z"
   },
   {
    "duration": 622,
    "start_time": "2023-01-31T10:57:22.229Z"
   },
   {
    "duration": 634,
    "start_time": "2023-01-31T10:58:18.300Z"
   },
   {
    "duration": 642,
    "start_time": "2023-01-31T10:58:42.468Z"
   },
   {
    "duration": 41,
    "start_time": "2023-01-31T11:05:52.564Z"
   }
  ],
  "kernelspec": {
   "display_name": "Python 3 (ipykernel)",
   "language": "python",
   "name": "python3"
  },
  "language_info": {
   "codemirror_mode": {
    "name": "ipython",
    "version": 3
   },
   "file_extension": ".py",
   "mimetype": "text/x-python",
   "name": "python",
   "nbconvert_exporter": "python",
   "pygments_lexer": "ipython3",
   "version": "3.9.12"
  },
  "toc": {
   "base_numbering": 1,
   "nav_menu": {},
   "number_sections": true,
   "sideBar": true,
   "skip_h1_title": true,
   "title_cell": "Содержание",
   "title_sidebar": "Contents",
   "toc_cell": true,
   "toc_position": {},
   "toc_section_display": true,
   "toc_window_display": false
  }
 },
 "nbformat": 4,
 "nbformat_minor": 2
}
